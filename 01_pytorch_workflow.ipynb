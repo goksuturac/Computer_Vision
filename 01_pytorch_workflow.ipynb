{
 "cells": [
  {
   "cell_type": "code",
   "execution_count": 1,
   "metadata": {},
   "outputs": [],
   "source": [
    "import torch \n",
    "from torch import nn\n",
    "import numpy as np\n",
    "import pandas as pd\n",
    "import matplotlib.pyplot as plt"
   ]
  },
  {
   "cell_type": "markdown",
   "metadata": {},
   "source": [
    "what is ``torch.nn`` ->  https://pytorch.org/docs/stable/nn.html#pooling-layers"
   ]
  },
  {
   "cell_type": "markdown",
   "metadata": {},
   "source": [
    "### Kursta hep bahsedilen videolar:\n",
    "1. ``Gradient descent`` ile ilgili olan --> https://www.youtube.com/watch?v=IHZwWFHWa-w\n",
    "2. ``Backpropagation`` ile ilgili olan --> https://www.youtube.com/watch?v=Ilg3gGewQ5U"
   ]
  },
  {
   "cell_type": "code",
   "execution_count": 2,
   "metadata": {},
   "outputs": [
    {
     "data": {
      "text/plain": [
       "'2.1.2+cpu'"
      ]
     },
     "execution_count": 2,
     "metadata": {},
     "output_type": "execute_result"
    }
   ],
   "source": [
    "torch.__version__"
   ]
  },
  {
   "cell_type": "markdown",
   "metadata": {},
   "source": [
    "| Topic\t   | Contents |\n",
    "|----------|----------|\n",
    "| 1. Getting data read | Data can be almost anything but to get started we're going to create a simple straight line  | \n",
    "| 2. Building a model | Here we'll create a model to learn patterns in the data, we'll also choose a loss function, optimizer and build a training loop.   | \n",
    "|3. Fitting the model to data (training) | We've got data and a model, now let's let the model (try to) find patterns in the (training) data.\n",
    "|4. Making predictions and evaluating a model (inference) | Our model's found patterns in the data, let's compare its findings to the actual (testing) data.\n",
    "|5. Saving and loading a model | You may want to use your model elsewhere, or come back to it later, here we'll cover that.\n",
    "|6. Putting it all together | Let's take all of the above and combine it.\n"
   ]
  },
  {
   "cell_type": "markdown",
   "metadata": {},
   "source": [
    "### 1. Data (preparing and loading)\n"
   ]
  },
  {
   "cell_type": "code",
   "execution_count": 3,
   "metadata": {},
   "outputs": [],
   "source": [
    "weight = 0.89\n",
    "bias = 0.2"
   ]
  },
  {
   "cell_type": "code",
   "execution_count": 4,
   "metadata": {},
   "outputs": [
    {
     "data": {
      "text/plain": [
       "(tensor([[0.0000],\n",
       "         [0.0100],\n",
       "         [0.0200],\n",
       "         [0.0300],\n",
       "         [0.0400],\n",
       "         [0.0500],\n",
       "         [0.0600],\n",
       "         [0.0700],\n",
       "         [0.0800],\n",
       "         [0.0900]]),\n",
       " tensor([[0.2000],\n",
       "         [0.2089],\n",
       "         [0.2178],\n",
       "         [0.2267],\n",
       "         [0.2356],\n",
       "         [0.2445],\n",
       "         [0.2534],\n",
       "         [0.2623],\n",
       "         [0.2712],\n",
       "         [0.2801]]))"
      ]
     },
     "execution_count": 4,
     "metadata": {},
     "output_type": "execute_result"
    }
   ],
   "source": [
    "X = torch.arange(start= 0, end= 1, step= 0.01).unsqueeze(dim=1)\n",
    "y = weight * X + bias\n",
    "\n",
    "X[:10], y[:10]"
   ]
  },
  {
   "cell_type": "code",
   "execution_count": 5,
   "metadata": {},
   "outputs": [
    {
     "data": {
      "text/plain": [
       "(100, 100)"
      ]
     },
     "execution_count": 5,
     "metadata": {},
     "output_type": "execute_result"
    }
   ],
   "source": [
    "len(X), len(y)"
   ]
  },
  {
   "cell_type": "markdown",
   "metadata": {},
   "source": [
    "### Split data into training and test sets\n"
   ]
  },
  {
   "cell_type": "code",
   "execution_count": 6,
   "metadata": {},
   "outputs": [
    {
     "data": {
      "text/plain": [
       "80"
      ]
     },
     "execution_count": 6,
     "metadata": {},
     "output_type": "execute_result"
    }
   ],
   "source": [
    "train_split = int(0.8 * len(X))\n",
    "train_split"
   ]
  },
  {
   "cell_type": "code",
   "execution_count": 7,
   "metadata": {},
   "outputs": [],
   "source": [
    "X_train, y_train = X[:train_split], y[:train_split]\n",
    "X_test, y_test = X[train_split:], y[train_split:]"
   ]
  },
  {
   "cell_type": "code",
   "execution_count": 8,
   "metadata": {},
   "outputs": [
    {
     "name": "stdout",
     "output_type": "stream",
     "text": [
      "X train size: 80\n",
      "X test size: 20\n",
      "y train size: 80\n",
      "y test size: 80\n"
     ]
    }
   ],
   "source": [
    "print(f\"X train size: {len(X_train)}\")\n",
    "print(f\"X test size: {len(X_test)}\")\n",
    "print(f\"y train size: {len(y_train)}\")\n",
    "print(f\"y test size: {len(y_train)}\")\n"
   ]
  },
  {
   "cell_type": "code",
   "execution_count": 9,
   "metadata": {},
   "outputs": [],
   "source": [
    "def plot_predictions(train_data=X_train, \n",
    "                     train_labels=y_train, \n",
    "                     test_data=X_test, \n",
    "                     test_labels=y_test, \n",
    "                     predictions=None):\n",
    "  plt.figure(figsize=(5, 5))\n",
    "\n",
    "  plt.scatter(train_data, train_labels, c=\"b\", s=6, label=\"Training data\")\n",
    "  \n",
    "  plt.scatter(test_data, test_labels, c=\"g\", s=6, label=\"Testing data\")\n",
    "\n",
    "  if predictions is not None:\n",
    "    plt.scatter(test_data, predictions, c=\"r\", s=4, label=\"Predictions\")\n",
    "\n",
    "  plt.legend(prop={\"size\": 10});"
   ]
  },
  {
   "cell_type": "code",
   "execution_count": 10,
   "metadata": {},
   "outputs": [
    {
     "data": {
      "image/png": "[encoded data removed]",
      "text/plain": [
       "<Figure size 500x500 with 1 Axes>"
      ]
     },
     "metadata": {},
     "output_type": "display_data"
    }
   ],
   "source": [
    "plot_predictions()\n",
    "plt.savefig(\"grafik\")"
   ]
  },
  {
   "cell_type": "markdown",
   "metadata": {},
   "source": [
    "``torch parameter`` -> https://pytorch.org/docs/stable/generated/torch.nn.parameter.Parameter.html#parameter"
   ]
  },
  {
   "cell_type": "markdown",
   "metadata": {},
   "source": [
    "## 2. Build model\n"
   ]
  },
  {
   "cell_type": "code",
   "execution_count": 11,
   "metadata": {},
   "outputs": [],
   "source": [
    "class LinearRegressionModel(nn.Module):\n",
    "    def __init__(self):\n",
    "        super().__init__()\n",
    "        self.weights = nn.Parameter(torch.randn(1,\n",
    "                                            requires_grad= True,\n",
    "                                            dtype=torch.float))\n",
    "        self.bias = nn.Parameter(torch.randn(1,\n",
    "                                             requires_grad= True,\n",
    "                                             dtype= torch.float))\n",
    "    def forward(self, x:torch.Tensor) -> torch.Tensor:\n",
    "        return self.weights * x + self.bias"
   ]
  },
  {
   "cell_type": "code",
   "execution_count": 12,
   "metadata": {},
   "outputs": [
    {
     "data": {
      "text/plain": [
       "[Parameter containing:\n",
       " tensor([0.3367], requires_grad=True),\n",
       " Parameter containing:\n",
       " tensor([0.1288], requires_grad=True)]"
      ]
     },
     "execution_count": 12,
     "metadata": {},
     "output_type": "execute_result"
    }
   ],
   "source": [
    "torch.manual_seed(42) # random state\n",
    "\n",
    "new_model = LinearRegressionModel()\n",
    "list(new_model.parameters())"
   ]
  },
  {
   "cell_type": "code",
   "execution_count": 13,
   "metadata": {},
   "outputs": [
    {
     "data": {
      "text/plain": [
       "OrderedDict([('weights', tensor([0.3367])), ('bias', tensor([0.1288]))])"
      ]
     },
     "execution_count": 13,
     "metadata": {},
     "output_type": "execute_result"
    }
   ],
   "source": [
    "new_model.state_dict()"
   ]
  },
  {
   "cell_type": "code",
   "execution_count": 14,
   "metadata": {},
   "outputs": [
    {
     "data": {
      "text/plain": [
       "[Parameter containing:\n",
       " tensor([0.3367], requires_grad=True),\n",
       " Parameter containing:\n",
       " tensor([0.1288], requires_grad=True)]"
      ]
     },
     "execution_count": 14,
     "metadata": {},
     "output_type": "execute_result"
    }
   ],
   "source": [
    "torch.manual_seed(42)\n",
    "\n",
    "newest_model = LinearRegressionModel()\n",
    "list(newest_model.parameters())"
   ]
  },
  {
   "cell_type": "code",
   "execution_count": 15,
   "metadata": {},
   "outputs": [
    {
     "data": {
      "text/plain": [
       "OrderedDict([('weights', tensor([0.3367])), ('bias', tensor([0.1288]))])"
      ]
     },
     "execution_count": 15,
     "metadata": {},
     "output_type": "execute_result"
    }
   ],
   "source": [
    "newest_model.state_dict()"
   ]
  },
  {
   "cell_type": "markdown",
   "metadata": {},
   "source": [
    "``state_dict()`` komutu, PyTorch modellerinin öğrenilmiş parametrelerini ve durumunu içeren bir sözlük (dictionary) nesnesini döndürür. Bu, bir PyTorch modelinin eğitimi sırasında öğrenilmiş tüm ağırlık matrislerini, bias vektörlerini ve diğer öğrenilmiş parametreleri içerir."
   ]
  },
  {
   "cell_type": "markdown",
   "metadata": {},
   "source": [
    "``torch.inference_mode()`` komutu, PyTorch 1.6.0 sürümünden itibaren kullanılan bir işlevdir. Bu işlev, PyTorch'un model çıkarım modunu (inference mode) açıp kapatmaya yarar. Model çıkarım modu, modelin eğitim sırasında veya çıkarım sırasında davranışını değiştirir.\n",
    "\n",
    "Model eğitimi sırasında, genellikle modelde **dropout** ve benzeri **regularizasyon** katmanları kullanılır. Ancak modelin çıkarım sırasında, bu regularizasyon katmanları genellikle devre dışı bırakılır çünkü modelin performansını etkileyebilirler.\n",
    "\n",
    "torch.inference_mode() işlevi, bu regularizasyon katmanlarının (örneğin, dropout) etkinliğini kontrol etmek için kullanılır. **Varsayılan olarak, model çıkarım modu açıktır ve regularizasyon katmanları devre dışı bırakılmıştır**. Ancak, modelin çıkarım sırasında regularizasyon katmanlarını etkinleştirmek isterseniz, torch.inference_mode(False) çağrısını yaparak model çıkarım modunu kapatabilirsiniz."
   ]
  },
  {
   "cell_type": "code",
   "execution_count": 16,
   "metadata": {},
   "outputs": [
    {
     "data": {
      "text/plain": [
       "tensor([[0.3982],\n",
       "        [0.4015],\n",
       "        [0.4049],\n",
       "        [0.4083],\n",
       "        [0.4116],\n",
       "        [0.4150],\n",
       "        [0.4184],\n",
       "        [0.4217],\n",
       "        [0.4251],\n",
       "        [0.4285],\n",
       "        [0.4318],\n",
       "        [0.4352],\n",
       "        [0.4386],\n",
       "        [0.4419],\n",
       "        [0.4453],\n",
       "        [0.4487],\n",
       "        [0.4520],\n",
       "        [0.4554],\n",
       "        [0.4588],\n",
       "        [0.4621]])"
      ]
     },
     "execution_count": 16,
     "metadata": {},
     "output_type": "execute_result"
    }
   ],
   "source": [
    "with torch.inference_mode():\n",
    "    y_preds = newest_model(X_test)\n",
    "\n",
    "y_preds"
   ]
  },
  {
   "cell_type": "code",
   "execution_count": 17,
   "metadata": {},
   "outputs": [
    {
     "data": {
      "text/plain": [
       "tensor([[0.3982],\n",
       "        [0.4015],\n",
       "        [0.4049],\n",
       "        [0.4083],\n",
       "        [0.4116],\n",
       "        [0.4150],\n",
       "        [0.4184],\n",
       "        [0.4217],\n",
       "        [0.4251],\n",
       "        [0.4285],\n",
       "        [0.4318],\n",
       "        [0.4352],\n",
       "        [0.4386],\n",
       "        [0.4419],\n",
       "        [0.4453],\n",
       "        [0.4487],\n",
       "        [0.4520],\n",
       "        [0.4554],\n",
       "        [0.4588],\n",
       "        [0.4621]], grad_fn=<AddBackward0>)"
      ]
     },
     "execution_count": 17,
     "metadata": {},
     "output_type": "execute_result"
    }
   ],
   "source": [
    "y_preds = newest_model(X_test)\n",
    "y_preds"
   ]
  },
  {
   "cell_type": "markdown",
   "metadata": {},
   "source": [
    "1. with torch.inference_mode():\n",
    "2.    y_preds = newest_model(X_test)\n",
    "\n",
    "- y_preds = newest_model(X_test)\n",
    "\n",
    "kodları arasındaki fark : ``grad_fn=<AddBackward0>``\n",
    "\n"
   ]
  },
  {
   "cell_type": "code",
   "execution_count": 18,
   "metadata": {},
   "outputs": [
    {
     "data": {
      "text/plain": [
       "tensor([[0.9120],\n",
       "        [0.9209],\n",
       "        [0.9298],\n",
       "        [0.9387],\n",
       "        [0.9476],\n",
       "        [0.9565],\n",
       "        [0.9654],\n",
       "        [0.9743],\n",
       "        [0.9832],\n",
       "        [0.9921],\n",
       "        [1.0010],\n",
       "        [1.0099],\n",
       "        [1.0188],\n",
       "        [1.0277],\n",
       "        [1.0366],\n",
       "        [1.0455],\n",
       "        [1.0544],\n",
       "        [1.0633],\n",
       "        [1.0722],\n",
       "        [1.0811]])"
      ]
     },
     "execution_count": 18,
     "metadata": {},
     "output_type": "execute_result"
    }
   ],
   "source": [
    "y_test"
   ]
  },
  {
   "cell_type": "code",
   "execution_count": 19,
   "metadata": {},
   "outputs": [
    {
     "name": "stderr",
     "output_type": "stream",
     "text": [
      "C:\\Users\\ASUS\\AppData\\Local\\Temp\\ipykernel_16860\\3967599396.py:1: UserWarning: To copy construct from a tensor, it is recommended to use sourceTensor.clone().detach() or sourceTensor.clone().detach().requires_grad_(True), rather than torch.tensor(sourceTensor).\n",
      "  plot_predictions(predictions=torch.tensor(y_preds))\n"
     ]
    },
    {
     "data": {
      "image/png": "[encoded data removed]",
      "text/plain": [
       "<Figure size 500x500 with 1 Axes>"
      ]
     },
     "metadata": {},
     "output_type": "display_data"
    }
   ],
   "source": [
    "plot_predictions(predictions=torch.tensor(y_preds))\n",
    "plt.savefig(\"first predictions\")"
   ]
  },
  {
   "cell_type": "markdown",
   "metadata": {},
   "source": [
    "### torch.no_grad() vs torch.inference_mode():\n",
    "``torch.no_grad()`` gradyan hesaplamalarını devre dışı bırakırken, ``torch.inference_mode()`` modelin çıkarım modunu kontrol eder. İkisi farklı amaçlara hizmet eder ve farklı etkileri vardır."
   ]
  },
  {
   "cell_type": "markdown",
   "metadata": {},
   "source": [
    "##### torch.nn Loss Functions: https://pytorch.org/docs/stable/nn.html#loss-functions\n",
    "##### torch.optim = optimizer : https://pytorch.org/docs/stable/optim.html#optimizer-step\n",
    "\n",
    "###### loss function == cost function == criterion in different areas\n",
    "\n"
   ]
  },
  {
   "cell_type": "markdown",
   "metadata": {},
   "source": [
    "## 3. Train model\n",
    "\n",
    "Right now our model is making predictions using random parameters to make calculations, it's basically guessing (randomly).\n",
    "\n",
    "To fix that, we can update its internal parameters (I also refer to *parameters* as patterns), the `weights` and `bias` values we set randomly using `nn.Parameter()` and `torch.randn()` to be something that better represents the data.\n",
    "\n",
    "We could hard code this (since we know the default values `weight=0.7` and `bias=0.3`) but where's the fun in that?\n",
    "\n",
    "Much of the time you won't know what the ideal parameters are for a model.\n",
    "\n",
    "Instead, it's much more fun to write code to see if the model can try and figure them out itself.\n",
    "\n"
   ]
  },
  {
   "cell_type": "markdown",
   "metadata": {},
   "source": [
    "### Creating a loss function and optimizer in PyTorch\n",
    "\n",
    "For our model to update its parameters on its own, we'll need to add a few more things to our recipe.\n",
    "\n",
    "And that's a **loss function** as well as an **optimizer**.\n",
    "\n",
    "The rolls of these are: \n",
    "\n",
    "| Function | What does it do? | Where does it live in PyTorch? | Common values |\n",
    "| ----- | ----- | ----- | ----- |\n",
    "| **Loss function** | Measures how wrong your models predictions (e.g. `y_preds`) are compared to the truth labels (e.g. `y_test`). Lower the better. | PyTorch has plenty of built-in loss functions in [`torch.nn`](https://pytorch.org/docs/stable/nn.html#loss-functions). | Mean absolute error (MAE) for regression problems ([`torch.nn.L1Loss()`](https://pytorch.org/docs/stable/generated/torch.nn.L1Loss.html)). Binary cross entropy for binary classification problems ([`torch.nn.BCELoss()`](https://pytorch.org/docs/stable/generated/torch.nn.BCELoss.html)).  |\n",
    "| **Optimizer** | Tells your model how to update its internal parameters to best lower the loss. | You can find various optimization function implementations in [`torch.optim`](https://pytorch.org/docs/stable/optim.html). | Stochastic gradient descent ([`torch.optim.SGD()`](https://pytorch.org/docs/stable/generated/torch.optim.SGD.html#torch.optim.SGD)). Adam optimizer ([`torch.optim.Adam()`](https://pytorch.org/docs/stable/generated/torch.optim.Adam.html#torch.optim.Adam))."
   ]
  },
  {
   "cell_type": "code",
   "execution_count": 20,
   "metadata": {},
   "outputs": [
    {
     "data": {
      "text/plain": [
       "L1Loss()"
      ]
     },
     "execution_count": 20,
     "metadata": {},
     "output_type": "execute_result"
    }
   ],
   "source": [
    "loss_function = nn.L1Loss()\n",
    "loss_function"
   ]
  },
  {
   "cell_type": "code",
   "execution_count": 21,
   "metadata": {},
   "outputs": [
    {
     "name": "stderr",
     "output_type": "stream",
     "text": [
      "c:\\Users\\ASUS\\AppData\\Local\\Programs\\Python\\Python311\\Lib\\site-packages\\tqdm\\auto.py:21: TqdmWarning: IProgress not found. Please update jupyter and ipywidgets. See https://ipywidgets.readthedocs.io/en/stable/user_install.html\n",
      "  from .autonotebook import tqdm as notebook_tqdm\n"
     ]
    },
    {
     "data": {
      "text/plain": [
       "SGD (\n",
       "Parameter Group 0\n",
       "    dampening: 0\n",
       "    differentiable: False\n",
       "    foreach: None\n",
       "    lr: 0.01\n",
       "    maximize: False\n",
       "    momentum: 0\n",
       "    nesterov: False\n",
       "    weight_decay: 0\n",
       ")"
      ]
     },
     "execution_count": 21,
     "metadata": {},
     "output_type": "execute_result"
    }
   ],
   "source": [
    "optimizer = torch.optim.SGD(params=newest_model.parameters(),\n",
    "                            lr= 0.01)\n",
    "optimizer"
   ]
  },
  {
   "cell_type": "markdown",
   "metadata": {},
   "source": [
    "- weigth and bias --> parameter\n",
    "- learning rate(lr), epoch --> hyperparameter"
   ]
  },
  {
   "cell_type": "markdown",
   "metadata": {},
   "source": [
    "### PyTorch training loop steps:\n",
    "\n",
    "| Number | Step name | What does it do? | Code example |\n",
    "| ----- | ----- | ----- | ----- |\n",
    "| 1 | Forward pass | The model goes through all of the training data once, performing its `forward()` function calculations. | `model(x_train)` |\n",
    "| 2 | Calculate the loss | The model's outputs (predictions) are compared to the ground truth and evaluated to see how wrong they are. | `loss = loss_fn(y_pred, y_train)` | \n",
    "| 3 | Zero gradients | The optimizers gradients are set to zero (they are accumulated by default) so they can be recalculated for the specific training step. | `optimizer.zero_grad()` |\n",
    "| 4 | Perform backpropagation on the loss | Computes the gradient of the loss with respect for every model parameter to be updated  (each parameter with `requires_grad=True`). This is known as **backpropagation**, hence \"backwards\".  | `loss.backward()` |\n",
    "| 5 | Update the optimizer (**gradient descent**) | Update the parameters with `requires_grad=True` with respect to the loss gradients in order to improve them. | `optimizer.step()` |\n",
    "\n",
    " * Calculate the loss (`loss = ...`) *before* performing backpropagation on it (`loss.backward()`).\n",
    " * Zero gradients (`optimizer.zero_grad()`) *before* stepping them (`optimizer.step()`).\n",
    " * Step the optimizer (`optimizer.step()`) *after* performing backpropagation on the loss (`loss.backward()`)."
   ]
  },
  {
   "cell_type": "code",
   "execution_count": 22,
   "metadata": {},
   "outputs": [
    {
     "name": "stdout",
     "output_type": "stream",
     "text": [
      "0.epoch| Loss: 0.2897478938102722 | Test Loss 0.5528675317764282\n",
      "OrderedDict([('weights', tensor([0.3406])), ('bias', tensor([0.1388]))])\n",
      "10.epoch| Loss: 0.1778218299150467 | Test Loss 0.42056408524513245\n",
      "OrderedDict([('weights', tensor([0.3801])), ('bias', tensor([0.2358]))])\n",
      "20.epoch| Loss: 0.11804261058568954 | Test Loss 0.32326850295066833\n",
      "OrderedDict([('weights', tensor([0.4170])), ('bias', tensor([0.3001]))])\n",
      "30.epoch| Loss: 0.0943593755364418 | Test Loss 0.26118627190589905\n",
      "OrderedDict([('weights', tensor([0.4481])), ('bias', tensor([0.3343]))])\n",
      "40.epoch| Loss: 0.08455128967761993 | Test Loss 0.22276751697063446\n",
      "OrderedDict([('weights', tensor([0.4737])), ('bias', tensor([0.3498]))])\n",
      "50.epoch| Loss: 0.0792960375547409 | Test Loss 0.19815583527088165\n",
      "OrderedDict([('weights', tensor([0.4956])), ('bias', tensor([0.3548]))])\n",
      "60.epoch| Loss: 0.07544515281915665 | Test Loss 0.1822928488254547\n",
      "OrderedDict([('weights', tensor([0.5150])), ('bias', tensor([0.3533]))])\n",
      "70.epoch| Loss: 0.07192831486463547 | Test Loss 0.17086341977119446\n",
      "OrderedDict([('weights', tensor([0.5331])), ('bias', tensor([0.3486]))])\n",
      "80.epoch| Loss: 0.06846831738948822 | Test Loss 0.16115178167819977\n",
      "OrderedDict([('weights', tensor([0.5507])), ('bias', tensor([0.3426]))])\n",
      "90.epoch| Loss: 0.06504283845424652 | Test Loss 0.15281617641448975\n",
      "OrderedDict([('weights', tensor([0.5678])), ('bias', tensor([0.3356]))])\n",
      "100.epoch| Loss: 0.06161721795797348 | Test Loss 0.14482459425926208\n",
      "OrderedDict([('weights', tensor([0.5848])), ('bias', tensor([0.3283]))])\n",
      "110.epoch| Loss: 0.058191172778606415 | Test Loss 0.13683299720287323\n",
      "OrderedDict([('weights', tensor([0.6019])), ('bias', tensor([0.3211]))])\n",
      "120.epoch| Loss: 0.05476566031575203 | Test Loss 0.1284974068403244\n",
      "OrderedDict([('weights', tensor([0.6190])), ('bias', tensor([0.3141]))])\n",
      "130.epoch| Loss: 0.05134006589651108 | Test Loss 0.12050579488277435\n",
      "OrderedDict([('weights', tensor([0.6360])), ('bias', tensor([0.3068]))])\n",
      "140.epoch| Loss: 0.04791402816772461 | Test Loss 0.1125141978263855\n",
      "OrderedDict([('weights', tensor([0.6530])), ('bias', tensor([0.2996]))])\n",
      "150.epoch| Loss: 0.04448848217725754 | Test Loss 0.10417859256267548\n",
      "OrderedDict([('weights', tensor([0.6702])), ('bias', tensor([0.2926]))])\n",
      "160.epoch| Loss: 0.04106292128562927 | Test Loss 0.09618699550628662\n",
      "OrderedDict([('weights', tensor([0.6872])), ('bias', tensor([0.2853]))])\n",
      "170.epoch| Loss: 0.037636883556842804 | Test Loss 0.08819542080163956\n",
      "OrderedDict([('weights', tensor([0.7042])), ('bias', tensor([0.2781]))])\n",
      "180.epoch| Loss: 0.03421130031347275 | Test Loss 0.07985980063676834\n",
      "OrderedDict([('weights', tensor([0.7214])), ('bias', tensor([0.2711]))])\n",
      "190.epoch| Loss: 0.03078577294945717 | Test Loss 0.07186819612979889\n",
      "OrderedDict([('weights', tensor([0.7384])), ('bias', tensor([0.2638]))])\n",
      "200.epoch| Loss: 0.0273597352206707 | Test Loss 0.06387660652399063\n",
      "OrderedDict([('weights', tensor([0.7554])), ('bias', tensor([0.2566]))])\n"
     ]
    }
   ],
   "source": [
    "torch.manual_seed(42)\n",
    "\n",
    "epochs = 201\n",
    "\n",
    "epoch_count = []\n",
    "loss_values = []\n",
    "test_loss_values = []\n",
    "\n",
    "\n",
    "# Pytorch Training Loop\n",
    "for epoch in range(epochs):\n",
    "    newest_model.train()\n",
    "    # 1. Forward pass\n",
    "    y_pred = newest_model(X_train)\n",
    "    # 2. Calculate the loss\n",
    "    loss = loss_function(y_pred, y_train)\n",
    "    #print(f\"loss: {loss}\")\n",
    "    # 3. Zero Gradients\n",
    "    optimizer.zero_grad()\n",
    "    # 4. Peform backpropagation on the loss\n",
    "    loss.backward()\n",
    "    # 5. Update the optimizer(gradient descent)\n",
    "    optimizer.step()\n",
    "\n",
    "    newest_model.eval()\n",
    "    with torch.inference_mode():\n",
    "        test_pred = newest_model(X_test)\n",
    "\n",
    "        test_loss = loss_function(test_pred,y_test)\n",
    "    \n",
    "    if epoch % 10 == 0:\n",
    "        epoch_count.append(epoch)\n",
    "        loss_values.append(loss)\n",
    "        test_loss_values.append(test_loss)\n",
    "        print(f\"{epoch}.epoch| Loss: {loss} | Test Loss {test_loss}\")\n",
    "        print(newest_model.state_dict())"
   ]
  },
  {
   "cell_type": "code",
   "execution_count": 23,
   "metadata": {},
   "outputs": [
    {
     "data": {
      "text/plain": [
       "OrderedDict([('weights', tensor([0.7554])), ('bias', tensor([0.2566]))])"
      ]
     },
     "execution_count": 23,
     "metadata": {},
     "output_type": "execute_result"
    }
   ],
   "source": [
    "newest_model.state_dict()"
   ]
  },
  {
   "cell_type": "code",
   "execution_count": 24,
   "metadata": {},
   "outputs": [
    {
     "data": {
      "text/plain": [
       "(0.89, 0.2)"
      ]
     },
     "execution_count": 24,
     "metadata": {},
     "output_type": "execute_result"
    }
   ],
   "source": [
    "weight,bias"
   ]
  },
  {
   "cell_type": "code",
   "execution_count": 25,
   "metadata": {},
   "outputs": [],
   "source": [
    "with torch.inference_mode():\n",
    "    y_preds_new = newest_model(X_test)"
   ]
  },
  {
   "cell_type": "code",
   "execution_count": 26,
   "metadata": {},
   "outputs": [
    {
     "data": {
      "image/png": "[encoded data removed]",
      "text/plain": [
       "<Figure size 500x500 with 1 Axes>"
      ]
     },
     "metadata": {},
     "output_type": "display_data"
    }
   ],
   "source": [
    "plot_predictions(predictions=y_preds_new)\n",
    "plt.savefig(\"second predictions\")"
   ]
  },
  {
   "cell_type": "code",
   "execution_count": 27,
   "metadata": {},
   "outputs": [
    {
     "data": {
      "image/png": "[encoded data removed]",
      "text/plain": [
       "<Figure size 640x480 with 1 Axes>"
      ]
     },
     "metadata": {},
     "output_type": "display_data"
    }
   ],
   "source": [
    "# Plot the loss curves\n",
    "plt.plot(epoch_count, torch.tensor(loss_values), label=\"Train loss\")\n",
    "plt.plot(epoch_count, test_loss_values, label=\"Test loss\")\n",
    "plt.title(\"Training and test loss curves\")\n",
    "plt.ylabel(\"Loss\")\n",
    "plt.xlabel(\"Epochs\")\n",
    "plt.savefig(\"loss curves\")"
   ]
  },
  {
   "cell_type": "markdown",
   "metadata": {},
   "source": [
    "# SAVING MODEL in PYTORCH\n",
    "THERE ARE THREE METHODS:\n",
    "1. ``torch.save()`` --> saves in pickle format\n",
    "2. ``torch.load()``\n",
    "3. ``torch.nn.Module.state_dict()``\n",
    "\n",
    "\n",
    "#### ``save and load modules in torch`` --> https://pytorch.org/tutorials/beginner/basics/saveloadrun_tutorial.html"
   ]
  },
  {
   "cell_type": "code",
   "execution_count": 28,
   "metadata": {},
   "outputs": [
    {
     "data": {
      "text/plain": [
       "OrderedDict([('weights', tensor([0.7554])), ('bias', tensor([0.2566]))])"
      ]
     },
     "execution_count": 28,
     "metadata": {},
     "output_type": "execute_result"
    }
   ],
   "source": [
    "newest_model.state_dict()"
   ]
  },
  {
   "cell_type": "code",
   "execution_count": 29,
   "metadata": {},
   "outputs": [],
   "source": [
    "from pathlib import Path\n",
    "\n",
    "# 1. creating file directory\n",
    "MODEL_PATH = Path(\"models\")\n",
    "MODEL_PATH.mkdir(parents=True, exist_ok=True)\n",
    "\n",
    "# 2. creating file save path\n",
    "MODEL_NAME = \"01_pytorch_workflow_models.pth\"\n",
    "MODEL_SAVE_PATH = MODEL_PATH / MODEL_NAME\n",
    "\n",
    "# 3. save the file state dictionary\n",
    "torch.save(newest_model.state_dict(),MODEL_SAVE_PATH)"
   ]
  },
  {
   "cell_type": "code",
   "execution_count": 40,
   "metadata": {},
   "outputs": [
    {
     "name": "stdout",
     "output_type": "stream",
     "text": [
      " Volume in drive C is OS\n",
      " Volume Serial Number is E2DB-09DF\n",
      "\n",
      " Directory of c:\\Users\\ASUS\\Desktop\\Files\\Computer Vision\\Computer_Vision\n",
      "\n",
      "\n",
      " Directory of c:\\Users\\ASUS\\Desktop\\Files\\Computer Vision\\Computer_Vision\\models\n",
      "\n",
      "19.02.2024  01:23    <DIR>          .\n",
      "19.02.2024  01:20    <DIR>          ..\n",
      "19.02.2024  01:28             1.674 01_pytorch_workflow_models.pth\n",
      "               1 File(s)          1.674 bytes\n",
      "               2 Dir(s)  727.737.966.592 bytes free\n"
     ]
    },
    {
     "name": "stderr",
     "output_type": "stream",
     "text": [
      "File Not Found\n"
     ]
    }
   ],
   "source": [
    "ls; -l;\"models\""
   ]
  },
  {
   "cell_type": "code",
   "execution_count": null,
   "metadata": {},
   "outputs": [],
   "source": []
  },
  {
   "cell_type": "code",
   "execution_count": null,
   "metadata": {},
   "outputs": [],
   "source": []
  },
  {
   "cell_type": "code",
   "execution_count": null,
   "metadata": {},
   "outputs": [],
   "source": []
  },
  {
   "cell_type": "code",
   "execution_count": null,
   "metadata": {},
   "outputs": [],
   "source": []
  },
  {
   "cell_type": "code",
   "execution_count": null,
   "metadata": {},
   "outputs": [],
   "source": []
  }
 ],
 "metadata": {
  "kernelspec": {
   "display_name": "Python 3",
   "language": "python",
   "name": "python3"
  },
  "language_info": {
   "codemirror_mode": {
    "name": "ipython",
    "version": 3
   },
   "file_extension": ".py",
   "mimetype": "text/x-python",
   "name": "python",
   "nbconvert_exporter": "python",
   "pygments_lexer": "ipython3",
   "version": "3.11.5"
  }
 },
 "nbformat": 4,
 "nbformat_minor": 2
}
