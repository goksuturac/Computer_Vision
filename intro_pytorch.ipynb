{
 "cells": [
  {
   "cell_type": "code",
   "execution_count": 62,
   "metadata": {},
   "outputs": [],
   "source": [
    "import numpy as np\n",
    "import pandas as pd\n",
    "import torch"
   ]
  },
  {
   "cell_type": "markdown",
   "metadata": {},
   "source": [
    "``In practice, you'll often see scalars and vectors denoted as lowercase letters such as y or a.And matrices and tensors denoted as uppercase letters such as X or W.``"
   ]
  },
  {
   "cell_type": "code",
   "execution_count": 63,
   "metadata": {},
   "outputs": [
    {
     "name": "stdout",
     "output_type": "stream",
     "text": [
      "0\n",
      "torch.Size([])\n"
     ]
    }
   ],
   "source": [
    "scalar = torch.tensor(7)\n",
    "print(scalar.ndim)\n",
    "print(scalar.shape)"
   ]
  },
  {
   "cell_type": "code",
   "execution_count": 64,
   "metadata": {},
   "outputs": [
    {
     "name": "stdout",
     "output_type": "stream",
     "text": [
      "1\n",
      "torch.Size([2])\n"
     ]
    }
   ],
   "source": [
    "vector = torch.tensor([7,7])\n",
    "print(vector.ndim)\n",
    "print(vector.shape)"
   ]
  },
  {
   "cell_type": "code",
   "execution_count": 65,
   "metadata": {},
   "outputs": [
    {
     "name": "stdout",
     "output_type": "stream",
     "text": [
      "2\n",
      "torch.Size([2, 2])\n"
     ]
    }
   ],
   "source": [
    "MATRIX = torch.tensor([[7, 7], [8, 8]])\n",
    "print(MATRIX.ndim)\n",
    "print(MATRIX.shape)"
   ]
  },
  {
   "cell_type": "code",
   "execution_count": 66,
   "metadata": {},
   "outputs": [
    {
     "name": "stdout",
     "output_type": "stream",
     "text": [
      "3\n",
      "torch.Size([1, 3, 3])\n"
     ]
    }
   ],
   "source": [
    "TENSOR = torch.tensor([[[1, 2, 3], [4, 5, 6], [7, 8, 9]]])\n",
    "print(TENSOR.ndim)\n",
    "print(TENSOR.shape)"
   ]
  },
  {
   "cell_type": "markdown",
   "metadata": {},
   "source": [
    "## Random Tensors\n",
    "`https://pytorch.org/docs/stable/generated/torch.rand.html`"
   ]
  },
  {
   "cell_type": "code",
   "execution_count": 67,
   "metadata": {},
   "outputs": [
    {
     "data": {
      "text/plain": [
       "tensor([[0.3568, 0.8437, 0.1966, 0.0058],\n",
       "        [0.6045, 0.7526, 0.1162, 0.5531],\n",
       "        [0.0103, 0.3958, 0.5508, 0.4634],\n",
       "        [0.0203, 0.0051, 0.6433, 0.7114]])"
      ]
     },
     "execution_count": 67,
     "metadata": {},
     "output_type": "execute_result"
    }
   ],
   "source": [
    "random = torch.rand(4,4)\n",
    "random"
   ]
  },
  {
   "cell_type": "code",
   "execution_count": 68,
   "metadata": {},
   "outputs": [
    {
     "data": {
      "text/plain": [
       "2"
      ]
     },
     "execution_count": 68,
     "metadata": {},
     "output_type": "execute_result"
    }
   ],
   "source": [
    "random.ndim"
   ]
  },
  {
   "cell_type": "code",
   "execution_count": 69,
   "metadata": {},
   "outputs": [
    {
     "data": {
      "text/plain": [
       "torch.Size([4, 4])"
      ]
     },
     "execution_count": 69,
     "metadata": {},
     "output_type": "execute_result"
    }
   ],
   "source": [
    "random.shape"
   ]
  },
  {
   "cell_type": "markdown",
   "metadata": {},
   "source": [
    "##### Create an image \n",
    "###### color channel,Height, width"
   ]
  },
  {
   "cell_type": "code",
   "execution_count": 70,
   "metadata": {},
   "outputs": [
    {
     "data": {
      "text/plain": [
       "(torch.Size([3, 224, 224]), 3)"
      ]
     },
     "execution_count": 70,
     "metadata": {},
     "output_type": "execute_result"
    }
   ],
   "source": [
    "image_size_tensor = torch.rand(size=(3,224,224))\n",
    "image_size_tensor.shape , image_size_tensor.ndim"
   ]
  },
  {
   "cell_type": "code",
   "execution_count": 71,
   "metadata": {},
   "outputs": [
    {
     "data": {
      "text/plain": [
       "tensor([ 1,  2,  3,  4,  5,  6,  7,  8,  9, 10])"
      ]
     },
     "execution_count": 71,
     "metadata": {},
     "output_type": "execute_result"
    }
   ],
   "source": [
    "one_to_ten = torch.arange(start = 1, end = 11, step = 1)\n",
    "one_to_ten"
   ]
  },
  {
   "cell_type": "code",
   "execution_count": 72,
   "metadata": {},
   "outputs": [],
   "source": [
    "ten_zero = torch.zeros_like(input = one_to_ten)"
   ]
  },
  {
   "cell_type": "code",
   "execution_count": 73,
   "metadata": {},
   "outputs": [
    {
     "data": {
      "text/plain": [
       "tensor([0, 0, 0, 0, 0, 0, 0, 0, 0, 0])"
      ]
     },
     "execution_count": 73,
     "metadata": {},
     "output_type": "execute_result"
    }
   ],
   "source": [
    "ten_zero"
   ]
  },
  {
   "cell_type": "markdown",
   "metadata": {},
   "source": [
    "TENSOR DATA TYPES"
   ]
  },
  {
   "cell_type": "code",
   "execution_count": 74,
   "metadata": {},
   "outputs": [
    {
     "data": {
      "text/plain": [
       "tensor([[0.7475, 0.1403, 0.4149, 0.9451],\n",
       "        [0.2255, 0.1281, 0.6931, 0.4687],\n",
       "        [0.3963, 0.5914, 0.8322, 0.3952]])"
      ]
     },
     "execution_count": 74,
     "metadata": {},
     "output_type": "execute_result"
    }
   ],
   "source": [
    "example_tensor = torch.rand(3,4)\n",
    "example_tensor"
   ]
  },
  {
   "cell_type": "code",
   "execution_count": 75,
   "metadata": {},
   "outputs": [
    {
     "name": "stdout",
     "output_type": "stream",
     "text": [
      "tensor([[0.7475, 0.1403, 0.4149, 0.9451],\n",
      "        [0.2255, 0.1281, 0.6931, 0.4687],\n",
      "        [0.3963, 0.5914, 0.8322, 0.3952]])\n",
      "data type of tensor: torch.float32\n",
      "shape of tensor: torch.Size([3, 4])\n",
      "device tensor is on: cpu\n"
     ]
    }
   ],
   "source": [
    "print(example_tensor)\n",
    "print(f\"data type of tensor: {example_tensor.dtype}\")\n",
    "print(f\"shape of tensor: {example_tensor.shape}\")\n",
    "print(f\"device tensor is on: {example_tensor.device}\")"
   ]
  },
  {
   "cell_type": "code",
   "execution_count": 76,
   "metadata": {},
   "outputs": [
    {
     "data": {
      "text/plain": [
       "False"
      ]
     },
     "execution_count": 76,
     "metadata": {},
     "output_type": "execute_result"
    }
   ],
   "source": [
    "torch.cuda.is_available()"
   ]
  },
  {
   "cell_type": "markdown",
   "metadata": {},
   "source": [
    "### Manipulating Tensors\n",
    "Operations:\n",
    "* Addition\n",
    "* Subtraction\n",
    "* Multiplication\n",
    "* Division\n",
    "* Matrix multiplication"
   ]
  },
  {
   "cell_type": "code",
   "execution_count": 77,
   "metadata": {},
   "outputs": [],
   "source": [
    "new_tensor = torch.tensor([1,2,3])"
   ]
  },
  {
   "cell_type": "code",
   "execution_count": 78,
   "metadata": {},
   "outputs": [
    {
     "data": {
      "text/plain": [
       "tensor([11, 12, 13])"
      ]
     },
     "execution_count": 78,
     "metadata": {},
     "output_type": "execute_result"
    }
   ],
   "source": [
    "# Addition\n",
    "torch.add(new_tensor,10)\n",
    "# new_tensor + 10"
   ]
  },
  {
   "cell_type": "code",
   "execution_count": 79,
   "metadata": {},
   "outputs": [
    {
     "data": {
      "text/plain": [
       "tensor([-9, -8, -7])"
      ]
     },
     "execution_count": 79,
     "metadata": {},
     "output_type": "execute_result"
    }
   ],
   "source": [
    "# Subtraction\n",
    "torch.sub(new_tensor,10)\n",
    "# new_tensor - 10"
   ]
  },
  {
   "cell_type": "code",
   "execution_count": 80,
   "metadata": {},
   "outputs": [
    {
     "data": {
      "text/plain": [
       "tensor([10, 20, 30])"
      ]
     },
     "execution_count": 80,
     "metadata": {},
     "output_type": "execute_result"
    }
   ],
   "source": [
    "# Multiplication\n",
    "torch.mul(new_tensor,10)\n",
    "# new_tensor * 10"
   ]
  },
  {
   "cell_type": "code",
   "execution_count": 81,
   "metadata": {},
   "outputs": [
    {
     "data": {
      "text/plain": [
       "tensor([1, 2, 3])"
      ]
     },
     "execution_count": 81,
     "metadata": {},
     "output_type": "execute_result"
    }
   ],
   "source": [
    "# Division\n",
    "torch.div(new_tensor,10)\n",
    "new_tensor"
   ]
  },
  {
   "cell_type": "markdown",
   "metadata": {},
   "source": [
    "### Matrix Multiplication\n",
    "Two main ways of performing multiplication in NN and DL:\n",
    "1. Element-wise\n",
    "2. Matrix (dot product)"
   ]
  },
  {
   "cell_type": "code",
   "execution_count": 82,
   "metadata": {},
   "outputs": [],
   "source": [
    "tensor1 = torch.tensor([[1,2,3]])\n",
    "tensor2 = torch.tensor([[1],[2],[3]])"
   ]
  },
  {
   "cell_type": "code",
   "execution_count": 83,
   "metadata": {},
   "outputs": [
    {
     "name": "stdout",
     "output_type": "stream",
     "text": [
      "tensor([[1, 2, 3]]) * tensor([[1, 2, 3]])\n",
      "Equals: tensor([[1, 4, 9]])\n"
     ]
    }
   ],
   "source": [
    "# 1. Element-wise\n",
    "print(tensor1, \"*\", tensor1)\n",
    "print(f\"Equals: {tensor1 * tensor1}\")"
   ]
  },
  {
   "cell_type": "code",
   "execution_count": 84,
   "metadata": {},
   "outputs": [
    {
     "data": {
      "text/plain": [
       "tensor([[1, 2, 3],\n",
       "        [2, 4, 6],\n",
       "        [3, 6, 9]])"
      ]
     },
     "execution_count": 84,
     "metadata": {},
     "output_type": "execute_result"
    }
   ],
   "source": [
    "# 2. Matrix (dot product)\n",
    "dot_product = torch.mm(tensor2, tensor1)\n",
    "dot_product"
   ]
  },
  {
   "cell_type": "code",
   "execution_count": 85,
   "metadata": {},
   "outputs": [
    {
     "data": {
      "text/plain": [
       "tensor([[-9, -8, -7]])"
      ]
     },
     "execution_count": 85,
     "metadata": {},
     "output_type": "execute_result"
    }
   ],
   "source": [
    "torch.sub(tensor1,10)"
   ]
  },
  {
   "cell_type": "code",
   "execution_count": 86,
   "metadata": {},
   "outputs": [
    {
     "name": "stdout",
     "output_type": "stream",
     "text": [
      "tensor([1, 4, 9])\n",
      "CPU times: total: 0 ns\n",
      "Wall time: 1 ms\n"
     ]
    }
   ],
   "source": [
    "%%time\n",
    "value = 0\n",
    "for i in range(len(tensor1)):\n",
    "    value += tensor1[i]* tensor1[i]\n",
    "print(value) "
   ]
  },
  {
   "cell_type": "code",
   "execution_count": 87,
   "metadata": {},
   "outputs": [
    {
     "name": "stdout",
     "output_type": "stream",
     "text": [
      "CPU times: total: 0 ns\n",
      "Wall time: 0 ns\n"
     ]
    },
    {
     "data": {
      "text/plain": [
       "tensor(14)"
      ]
     },
     "execution_count": 87,
     "metadata": {},
     "output_type": "execute_result"
    }
   ],
   "source": [
    "%%time\n",
    "torch.matmul(new_tensor,new_tensor)"
   ]
  },
  {
   "cell_type": "code",
   "execution_count": 88,
   "metadata": {},
   "outputs": [
    {
     "data": {
      "text/plain": [
       "tensor([[1, 2, 3],\n",
       "        [2, 4, 6],\n",
       "        [3, 6, 9]])"
      ]
     },
     "execution_count": 88,
     "metadata": {},
     "output_type": "execute_result"
    }
   ],
   "source": [
    "tensor2 @ tensor1"
   ]
  },
  {
   "cell_type": "code",
   "execution_count": 89,
   "metadata": {},
   "outputs": [
    {
     "data": {
      "text/plain": [
       "tensor([[0.2800, 0.2258, 0.0707],\n",
       "        [0.2330, 0.1882, 0.0611],\n",
       "        [0.2766, 0.2191, 0.0378]])"
      ]
     },
     "execution_count": 89,
     "metadata": {},
     "output_type": "execute_result"
    }
   ],
   "source": [
    "torch.matmul(torch.rand(3,2),torch.rand(2,3))"
   ]
  },
  {
   "cell_type": "code",
   "execution_count": 90,
   "metadata": {},
   "outputs": [],
   "source": [
    "tensor_A = torch.tensor([[1,2],\n",
    "                         [3,4],\n",
    "                         [5,6]])\n",
    "\n",
    "tensor_B = torch.tensor([[7,10],\n",
    "                         [8,11],\n",
    "                         [9,12]])"
   ]
  },
  {
   "cell_type": "code",
   "execution_count": 91,
   "metadata": {},
   "outputs": [
    {
     "data": {
      "text/plain": [
       "tensor([[1, 3, 5],\n",
       "        [2, 4, 6]])"
      ]
     },
     "execution_count": 91,
     "metadata": {},
     "output_type": "execute_result"
    }
   ],
   "source": [
    "tensor_A.T \n",
    "#transpose "
   ]
  },
  {
   "cell_type": "code",
   "execution_count": 92,
   "metadata": {},
   "outputs": [
    {
     "data": {
      "text/plain": [
       "tensor([[ 76, 103],\n",
       "        [100, 136]])"
      ]
     },
     "execution_count": 92,
     "metadata": {},
     "output_type": "execute_result"
    }
   ],
   "source": [
    "torch.mm(tensor_A.T,tensor_B)"
   ]
  },
  {
   "cell_type": "code",
   "execution_count": 93,
   "metadata": {},
   "outputs": [
    {
     "name": "stdout",
     "output_type": "stream",
     "text": [
      "min: 1\n",
      "max: 6\n",
      "average: 3.5\n",
      "index position of min: 0\n",
      "index position of max: 5\n"
     ]
    }
   ],
   "source": [
    "print(f\"min: {tensor_A.min()}\")\n",
    "print(f\"max: {tensor_A.max()}\")\n",
    "print(f\"average: {torch.mean(tensor_A.type(torch.float))}\")\n",
    "print(f\"index position of min: {tensor_A.argmin()}\")\n",
    "print(f\"index position of max: {tensor_A.argmax()}\")"
   ]
  },
  {
   "cell_type": "code",
   "execution_count": 94,
   "metadata": {},
   "outputs": [
    {
     "data": {
      "text/plain": [
       "(tensor([ 1.,  2.,  3.,  4.,  5.,  6.,  7.,  8.,  9., 10.]), torch.Size([10]))"
      ]
     },
     "execution_count": 94,
     "metadata": {},
     "output_type": "execute_result"
    }
   ],
   "source": [
    "x = torch.arange(1.,11.)\n",
    "x , x.shape"
   ]
  },
  {
   "cell_type": "code",
   "execution_count": 95,
   "metadata": {},
   "outputs": [
    {
     "data": {
      "text/plain": [
       "(tensor([[ 1.,  2.,  3.,  4.,  5.],\n",
       "         [ 6.,  7.,  8.,  9., 10.]]),\n",
       " torch.Size([2, 5]))"
      ]
     },
     "execution_count": 95,
     "metadata": {},
     "output_type": "execute_result"
    }
   ],
   "source": [
    "x_reshaped = x.reshape(2,5)\n",
    "x_reshaped, x_reshaped.shape"
   ]
  },
  {
   "cell_type": "code",
   "execution_count": 96,
   "metadata": {},
   "outputs": [
    {
     "data": {
      "text/plain": [
       "(tensor([[ 1.,  2.,  3.,  4.,  5.,  6.,  7.,  8.,  9., 10.]]),\n",
       " torch.Size([1, 10]))"
      ]
     },
     "execution_count": 96,
     "metadata": {},
     "output_type": "execute_result"
    }
   ],
   "source": [
    "z = x.view(1,10)\n",
    "z, z.shape"
   ]
  },
  {
   "cell_type": "code",
   "execution_count": 97,
   "metadata": {},
   "outputs": [
    {
     "data": {
      "text/plain": [
       "(tensor([[ 5.,  2.,  3.,  4.,  5.,  6.,  7.,  8.,  9., 10.]]),\n",
       " tensor([ 5.,  2.,  3.,  4.,  5.,  6.,  7.,  8.,  9., 10.]))"
      ]
     },
     "execution_count": 97,
     "metadata": {},
     "output_type": "execute_result"
    }
   ],
   "source": [
    "z[:,0] = 5\n",
    "z,x"
   ]
  },
  {
   "cell_type": "code",
   "execution_count": 98,
   "metadata": {},
   "outputs": [
    {
     "data": {
      "text/plain": [
       "tensor([[ 5.,  2.,  3.,  4.,  5.,  6.,  7.,  8.,  9., 10.],\n",
       "        [ 5.,  2.,  3.,  4.,  5.,  6.,  7.,  8.,  9., 10.],\n",
       "        [ 5.,  2.,  3.,  4.,  5.,  6.,  7.,  8.,  9., 10.],\n",
       "        [ 5.,  2.,  3.,  4.,  5.,  6.,  7.,  8.,  9., 10.],\n",
       "        [ 5.,  2.,  3.,  4.,  5.,  6.,  7.,  8.,  9., 10.]])"
      ]
     },
     "execution_count": 98,
     "metadata": {},
     "output_type": "execute_result"
    }
   ],
   "source": [
    "x_stacked = torch.stack([x,x,x,x,x], dim=0)\n",
    "x_stacked"
   ]
  },
  {
   "cell_type": "code",
   "execution_count": 99,
   "metadata": {},
   "outputs": [
    {
     "data": {
      "text/plain": [
       "(tensor([[[-8.3441e-01, -3.2539e-01, -4.2395e-01, -1.6037e+00, -1.2386e+00],\n",
       "          [ 4.9564e-02, -4.5289e-01,  5.7726e-01,  1.9299e+00,  4.5747e-01],\n",
       "          [ 8.3892e-01, -7.4341e-01, -3.4689e-01, -2.6912e-01, -2.5504e-01]],\n",
       " \n",
       "         [[ 3.8073e-01,  5.9350e-01,  2.8130e+00,  1.2554e-01, -1.6647e+00],\n",
       "          [-1.9909e-03, -7.7537e-01, -5.3012e-01, -4.6418e-01, -1.3056e+00],\n",
       "          [-1.5808e+00,  1.0035e+00,  8.3447e-02,  1.4995e+00, -1.4935e+00]]]),\n",
       " torch.Size([2, 3, 5]))"
      ]
     },
     "execution_count": 99,
     "metadata": {},
     "output_type": "execute_result"
    }
   ],
   "source": [
    "x = torch.randn(2,3,5)\n",
    "x, x.size()"
   ]
  },
  {
   "cell_type": "code",
   "execution_count": 100,
   "metadata": {},
   "outputs": [
    {
     "data": {
      "text/plain": [
       "(tensor([[[-8.3441e-01,  4.9564e-02,  8.3892e-01],\n",
       "          [ 3.8073e-01, -1.9909e-03, -1.5808e+00]],\n",
       " \n",
       "         [[-3.2539e-01, -4.5289e-01, -7.4341e-01],\n",
       "          [ 5.9350e-01, -7.7537e-01,  1.0035e+00]],\n",
       " \n",
       "         [[-4.2395e-01,  5.7726e-01, -3.4689e-01],\n",
       "          [ 2.8130e+00, -5.3012e-01,  8.3447e-02]],\n",
       " \n",
       "         [[-1.6037e+00,  1.9299e+00, -2.6912e-01],\n",
       "          [ 1.2554e-01, -4.6418e-01,  1.4995e+00]],\n",
       " \n",
       "         [[-1.2386e+00,  4.5747e-01, -2.5504e-01],\n",
       "          [-1.6647e+00, -1.3056e+00, -1.4935e+00]]]),\n",
       " torch.Size([5, 2, 3]))"
      ]
     },
     "execution_count": 100,
     "metadata": {},
     "output_type": "execute_result"
    }
   ],
   "source": [
    "permuted_x = torch.permute(x,(2,0,1))\n",
    "permuted_x, permuted_x.size()"
   ]
  },
  {
   "cell_type": "code",
   "execution_count": 101,
   "metadata": {},
   "outputs": [
    {
     "data": {
      "text/plain": [
       "tensor([[[0.3953, 0.7007, 0.4661],\n",
       "         [0.5974, 0.7064, 0.0205],\n",
       "         [0.6073, 0.0688, 0.9073],\n",
       "         ...,\n",
       "         [0.5553, 0.8249, 0.3422],\n",
       "         [0.6892, 0.0489, 0.7458],\n",
       "         [0.9559, 0.9149, 0.1500]],\n",
       "\n",
       "        [[0.9907, 0.4401, 0.6208],\n",
       "         [0.4524, 0.3585, 0.5801],\n",
       "         [0.7389, 0.2004, 0.1098],\n",
       "         ...,\n",
       "         [0.6505, 0.1635, 0.2070],\n",
       "         [0.0550, 0.7368, 0.7910],\n",
       "         [0.6921, 0.0150, 0.7438]],\n",
       "\n",
       "        [[0.1723, 0.2070, 0.6470],\n",
       "         [0.9971, 0.8474, 0.3454],\n",
       "         [0.2672, 0.1706, 0.9123],\n",
       "         ...,\n",
       "         [0.5656, 0.9959, 0.2817],\n",
       "         [0.7433, 0.7467, 0.0144],\n",
       "         [0.3118, 0.4072, 0.7865]],\n",
       "\n",
       "        ...,\n",
       "\n",
       "        [[0.2947, 0.9562, 0.3669],\n",
       "         [0.2750, 0.7521, 0.3774],\n",
       "         [0.8998, 0.8013, 0.3858],\n",
       "         ...,\n",
       "         [0.9195, 0.0348, 0.4277],\n",
       "         [0.7629, 0.5788, 0.8328],\n",
       "         [0.7758, 0.9677, 0.9966]],\n",
       "\n",
       "        [[0.3696, 0.0569, 0.0301],\n",
       "         [0.1477, 0.2766, 0.0385],\n",
       "         [0.4077, 0.3712, 0.6222],\n",
       "         ...,\n",
       "         [0.5854, 0.6295, 0.7267],\n",
       "         [0.4824, 0.1468, 0.0940],\n",
       "         [0.3990, 0.2810, 0.3217]],\n",
       "\n",
       "        [[0.6009, 0.3903, 0.9524],\n",
       "         [0.7367, 0.0647, 0.5892],\n",
       "         [0.1271, 0.6033, 0.8751],\n",
       "         ...,\n",
       "         [0.6819, 0.9423, 0.9562],\n",
       "         [0.7538, 0.0711, 0.0072],\n",
       "         [0.3620, 0.9015, 0.6170]]])"
      ]
     },
     "execution_count": 101,
     "metadata": {},
     "output_type": "execute_result"
    }
   ],
   "source": [
    "x_original = torch.rand(size=(224,224,3)) # [height,width,color channel])\n",
    "x_original"
   ]
  },
  {
   "cell_type": "code",
   "execution_count": 102,
   "metadata": {},
   "outputs": [
    {
     "data": {
      "text/plain": [
       "(tensor([[[0.3953, 0.5974, 0.6073,  ..., 0.5553, 0.6892, 0.9559],\n",
       "          [0.9907, 0.4524, 0.7389,  ..., 0.6505, 0.0550, 0.6921],\n",
       "          [0.1723, 0.9971, 0.2672,  ..., 0.5656, 0.7433, 0.3118],\n",
       "          ...,\n",
       "          [0.2947, 0.2750, 0.8998,  ..., 0.9195, 0.7629, 0.7758],\n",
       "          [0.3696, 0.1477, 0.4077,  ..., 0.5854, 0.4824, 0.3990],\n",
       "          [0.6009, 0.7367, 0.1271,  ..., 0.6819, 0.7538, 0.3620]],\n",
       " \n",
       "         [[0.7007, 0.7064, 0.0688,  ..., 0.8249, 0.0489, 0.9149],\n",
       "          [0.4401, 0.3585, 0.2004,  ..., 0.1635, 0.7368, 0.0150],\n",
       "          [0.2070, 0.8474, 0.1706,  ..., 0.9959, 0.7467, 0.4072],\n",
       "          ...,\n",
       "          [0.9562, 0.7521, 0.8013,  ..., 0.0348, 0.5788, 0.9677],\n",
       "          [0.0569, 0.2766, 0.3712,  ..., 0.6295, 0.1468, 0.2810],\n",
       "          [0.3903, 0.0647, 0.6033,  ..., 0.9423, 0.0711, 0.9015]],\n",
       " \n",
       "         [[0.4661, 0.0205, 0.9073,  ..., 0.3422, 0.7458, 0.1500],\n",
       "          [0.6208, 0.5801, 0.1098,  ..., 0.2070, 0.7910, 0.7438],\n",
       "          [0.6470, 0.3454, 0.9123,  ..., 0.2817, 0.0144, 0.7865],\n",
       "          ...,\n",
       "          [0.3669, 0.3774, 0.3858,  ..., 0.4277, 0.8328, 0.9966],\n",
       "          [0.0301, 0.0385, 0.6222,  ..., 0.7267, 0.0940, 0.3217],\n",
       "          [0.9524, 0.5892, 0.8751,  ..., 0.9562, 0.0072, 0.6170]]]),\n",
       " torch.Size([3, 224, 224]))"
      ]
     },
     "execution_count": 102,
     "metadata": {},
     "output_type": "execute_result"
    }
   ],
   "source": [
    "x_original_permuted = x_original.permute(2,0,1) \n",
    "x_original_permuted, x_original_permuted.size()"
   ]
  },
  {
   "cell_type": "markdown",
   "metadata": {},
   "source": [
    "# PyTorch Tensors & NumPy\n",
    "* Data in numpy, want in pytorch tensor -> `torch.from_numpy(ndarray)`\n",
    "* PyTorch tensor -> Numpy -> `torch.Tensor.numpy()`"
   ]
  },
  {
   "cell_type": "code",
   "execution_count": 103,
   "metadata": {},
   "outputs": [
    {
     "data": {
      "text/plain": [
       "(array([1., 2., 3., 4., 5., 6., 7.]),\n",
       " tensor([1., 2., 3., 4., 5., 6., 7.], dtype=torch.float64))"
      ]
     },
     "execution_count": 103,
     "metadata": {},
     "output_type": "execute_result"
    }
   ],
   "source": [
    "# Numpy array to tensor\n",
    "array = np.arange(1.,8.)\n",
    "tensor = torch.from_numpy(array)\n",
    "array,tensor"
   ]
  },
  {
   "cell_type": "code",
   "execution_count": 104,
   "metadata": {},
   "outputs": [
    {
     "data": {
      "text/plain": [
       "(dtype('float64'), torch.float64)"
      ]
     },
     "execution_count": 104,
     "metadata": {},
     "output_type": "execute_result"
    }
   ],
   "source": [
    "array.dtype, tensor.dtype"
   ]
  },
  {
   "cell_type": "code",
   "execution_count": 105,
   "metadata": {},
   "outputs": [
    {
     "data": {
      "text/plain": [
       "torch.float32"
      ]
     },
     "execution_count": 105,
     "metadata": {},
     "output_type": "execute_result"
    }
   ],
   "source": [
    "torch.arange(1.,8.).dtype"
   ]
  },
  {
   "cell_type": "code",
   "execution_count": 106,
   "metadata": {},
   "outputs": [
    {
     "data": {
      "text/plain": [
       "(tensor([1, 2, 3]), device(type='cpu'))"
      ]
     },
     "execution_count": 106,
     "metadata": {},
     "output_type": "execute_result"
    }
   ],
   "source": [
    "tensor = torch.tensor([1,2,3], device=\"cpu\")\n",
    "tensor, tensor.device"
   ]
  },
  {
   "cell_type": "code",
   "execution_count": 107,
   "metadata": {},
   "outputs": [
    {
     "name": "stdout",
     "output_type": "stream",
     "text": [
      "tensor([1, 2, 3])\n"
     ]
    },
    {
     "data": {
      "text/plain": [
       "device(type='cpu')"
      ]
     },
     "execution_count": 107,
     "metadata": {},
     "output_type": "execute_result"
    }
   ],
   "source": [
    "device = torch.device(\"cuda\" if torch.cuda.is_available() else \"cpu\")\n",
    "\n",
    "tensor = torch.tensor([1,2,3])\n",
    "\n",
    "tensor_on_gpu = tensor.to(device)\n",
    "print(tensor_on_gpu)\n",
    "tensor_on_gpu.device"
   ]
  },
  {
   "cell_type": "code",
   "execution_count": 108,
   "metadata": {},
   "outputs": [
    {
     "data": {
      "text/plain": [
       "array([1, 2, 3], dtype=int64)"
      ]
     },
     "execution_count": 108,
     "metadata": {},
     "output_type": "execute_result"
    }
   ],
   "source": [
    "tensor_back_on_cpu = tensor_on_gpu.cpu().numpy()\n",
    "tensor_back_on_cpu"
   ]
  }
 ],
 "metadata": {
  "kernelspec": {
   "display_name": "Python 3 (ipykernel)",
   "language": "python",
   "name": "python3"
  },
  "language_info": {
   "codemirror_mode": {
    "name": "ipython",
    "version": 3
   },
   "file_extension": ".py",
   "mimetype": "text/x-python",
   "name": "python",
   "nbconvert_exporter": "python",
   "pygments_lexer": "ipython3",
   "version": "3.11.5"
  }
 },
 "nbformat": 4,
 "nbformat_minor": 2
}
