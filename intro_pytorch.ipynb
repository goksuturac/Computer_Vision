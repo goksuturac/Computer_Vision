{
 "cells": [
  {
   "cell_type": "code",
   "execution_count": 1,
   "metadata": {},
   "outputs": [],
   "source": [
    "import numpy as np\n",
    "import pandas as pd\n",
    "import torch"
   ]
  },
  {
   "cell_type": "markdown",
   "metadata": {},
   "source": [
    "``In practice, you'll often see scalars and vectors denoted as lowercase letters such as y or a.And matrices and tensors denoted as uppercase letters such as X or W.``"
   ]
  },
  {
   "cell_type": "code",
   "execution_count": 2,
   "metadata": {},
   "outputs": [
    {
     "name": "stdout",
     "output_type": "stream",
     "text": [
      "0\n",
      "torch.Size([])\n"
     ]
    }
   ],
   "source": [
    "scalar = torch.tensor(7)\n",
    "print(scalar.ndim)\n",
    "print(scalar.shape)"
   ]
  },
  {
   "cell_type": "code",
   "execution_count": 3,
   "metadata": {},
   "outputs": [
    {
     "name": "stdout",
     "output_type": "stream",
     "text": [
      "1\n",
      "torch.Size([2])\n"
     ]
    }
   ],
   "source": [
    "vector = torch.tensor([7,7])\n",
    "print(vector.ndim)\n",
    "print(vector.shape)"
   ]
  },
  {
   "cell_type": "code",
   "execution_count": 4,
   "metadata": {},
   "outputs": [
    {
     "name": "stdout",
     "output_type": "stream",
     "text": [
      "2\n",
      "torch.Size([2, 2])\n"
     ]
    }
   ],
   "source": [
    "MATRIX = torch.tensor([[7, 7], [8, 8]])\n",
    "print(MATRIX.ndim)\n",
    "print(MATRIX.shape)"
   ]
  },
  {
   "cell_type": "code",
   "execution_count": 5,
   "metadata": {},
   "outputs": [
    {
     "name": "stdout",
     "output_type": "stream",
     "text": [
      "3\n",
      "torch.Size([1, 3, 3])\n"
     ]
    }
   ],
   "source": [
    "TENSOR = torch.tensor([[[1, 2, 3], [4, 5, 6], [7, 8, 9]]])\n",
    "print(TENSOR.ndim)\n",
    "print(TENSOR.shape)"
   ]
  },
  {
   "cell_type": "markdown",
   "metadata": {},
   "source": [
    "## Random Tensors\n",
    "`https://pytorch.org/docs/stable/generated/torch.rand.html`"
   ]
  },
  {
   "cell_type": "code",
   "execution_count": 6,
   "metadata": {},
   "outputs": [
    {
     "data": {
      "text/plain": [
       "tensor([[0.7337, 0.4746, 0.6358, 0.9135],\n",
       "        [0.0417, 0.7450, 0.1136, 0.0055],\n",
       "        [0.8722, 0.5068, 0.4692, 0.1139],\n",
       "        [0.8105, 0.2134, 0.8840, 0.3130]])"
      ]
     },
     "execution_count": 6,
     "metadata": {},
     "output_type": "execute_result"
    }
   ],
   "source": [
    "random = torch.rand(4,4)\n",
    "random"
   ]
  },
  {
   "cell_type": "code",
   "execution_count": 7,
   "metadata": {},
   "outputs": [
    {
     "data": {
      "text/plain": [
       "2"
      ]
     },
     "execution_count": 7,
     "metadata": {},
     "output_type": "execute_result"
    }
   ],
   "source": [
    "random.ndim"
   ]
  },
  {
   "cell_type": "code",
   "execution_count": 8,
   "metadata": {},
   "outputs": [
    {
     "data": {
      "text/plain": [
       "torch.Size([4, 4])"
      ]
     },
     "execution_count": 8,
     "metadata": {},
     "output_type": "execute_result"
    }
   ],
   "source": [
    "random.shape"
   ]
  },
  {
   "cell_type": "markdown",
   "metadata": {},
   "source": [
    "##### Create an image \n",
    "###### color channel,Height, width"
   ]
  },
  {
   "cell_type": "code",
   "execution_count": 9,
   "metadata": {},
   "outputs": [
    {
     "data": {
      "text/plain": [
       "(torch.Size([3, 224, 224]), 3)"
      ]
     },
     "execution_count": 9,
     "metadata": {},
     "output_type": "execute_result"
    }
   ],
   "source": [
    "image_size_tensor = torch.rand(size=(3,224,224))\n",
    "image_size_tensor.shape , image_size_tensor.ndim"
   ]
  },
  {
   "cell_type": "code",
   "execution_count": 10,
   "metadata": {},
   "outputs": [
    {
     "data": {
      "text/plain": [
       "tensor([ 1,  2,  3,  4,  5,  6,  7,  8,  9, 10])"
      ]
     },
     "execution_count": 10,
     "metadata": {},
     "output_type": "execute_result"
    }
   ],
   "source": [
    "one_to_ten = torch.arange(start = 1, end = 11, step = 1)\n",
    "one_to_ten"
   ]
  },
  {
   "cell_type": "code",
   "execution_count": 11,
   "metadata": {},
   "outputs": [],
   "source": [
    "ten_zero = torch.zeros_like(input = one_to_ten)"
   ]
  },
  {
   "cell_type": "code",
   "execution_count": 12,
   "metadata": {},
   "outputs": [
    {
     "data": {
      "text/plain": [
       "tensor([0, 0, 0, 0, 0, 0, 0, 0, 0, 0])"
      ]
     },
     "execution_count": 12,
     "metadata": {},
     "output_type": "execute_result"
    }
   ],
   "source": [
    "ten_zero"
   ]
  },
  {
   "cell_type": "markdown",
   "metadata": {},
   "source": [
    "TENSOR DATA TYPES"
   ]
  },
  {
   "cell_type": "code",
   "execution_count": 13,
   "metadata": {},
   "outputs": [
    {
     "data": {
      "text/plain": [
       "tensor([[0.2869, 0.6036, 0.4617, 0.5765],\n",
       "        [0.7145, 0.4503, 0.3165, 0.3352],\n",
       "        [0.4738, 0.3861, 0.9439, 0.4212]])"
      ]
     },
     "execution_count": 13,
     "metadata": {},
     "output_type": "execute_result"
    }
   ],
   "source": [
    "example_tensor = torch.rand(3,4)\n",
    "example_tensor"
   ]
  },
  {
   "cell_type": "code",
   "execution_count": 14,
   "metadata": {},
   "outputs": [
    {
     "name": "stdout",
     "output_type": "stream",
     "text": [
      "tensor([[0.2869, 0.6036, 0.4617, 0.5765],\n",
      "        [0.7145, 0.4503, 0.3165, 0.3352],\n",
      "        [0.4738, 0.3861, 0.9439, 0.4212]])\n",
      "data type of tensor: torch.float32\n",
      "shape of tensor: torch.Size([3, 4])\n",
      "device tensor is on: cpu\n"
     ]
    }
   ],
   "source": [
    "print(example_tensor)\n",
    "print(f\"data type of tensor: {example_tensor.dtype}\")\n",
    "print(f\"shape of tensor: {example_tensor.shape}\")\n",
    "print(f\"device tensor is on: {example_tensor.device}\")"
   ]
  },
  {
   "cell_type": "code",
   "execution_count": 15,
   "metadata": {},
   "outputs": [
    {
     "data": {
      "text/plain": [
       "False"
      ]
     },
     "execution_count": 15,
     "metadata": {},
     "output_type": "execute_result"
    }
   ],
   "source": [
    "torch.cuda.is_available()"
   ]
  },
  {
   "cell_type": "markdown",
   "metadata": {},
   "source": [
    "### Manipulating Tensors\n",
    "Operations:\n",
    "* Addition\n",
    "* Subtraction\n",
    "* Multiplication\n",
    "* Division\n",
    "* Matrix multiplication"
   ]
  },
  {
   "cell_type": "code",
   "execution_count": 16,
   "metadata": {},
   "outputs": [],
   "source": [
    "new_tensor = torch.tensor([1,2,3])"
   ]
  },
  {
   "cell_type": "code",
   "execution_count": 17,
   "metadata": {},
   "outputs": [
    {
     "data": {
      "text/plain": [
       "tensor([11, 12, 13])"
      ]
     },
     "execution_count": 17,
     "metadata": {},
     "output_type": "execute_result"
    }
   ],
   "source": [
    "# Addition\n",
    "torch.add(new_tensor,10)\n",
    "# new_tensor + 10"
   ]
  },
  {
   "cell_type": "code",
   "execution_count": 18,
   "metadata": {},
   "outputs": [
    {
     "data": {
      "text/plain": [
       "tensor([-9, -8, -7])"
      ]
     },
     "execution_count": 18,
     "metadata": {},
     "output_type": "execute_result"
    }
   ],
   "source": [
    "# Subtraction\n",
    "torch.sub(new_tensor,10)\n",
    "# new_tensor - 10"
   ]
  },
  {
   "cell_type": "code",
   "execution_count": 19,
   "metadata": {},
   "outputs": [
    {
     "data": {
      "text/plain": [
       "tensor([10, 20, 30])"
      ]
     },
     "execution_count": 19,
     "metadata": {},
     "output_type": "execute_result"
    }
   ],
   "source": [
    "# Multiplication\n",
    "torch.mul(new_tensor,10)\n",
    "# new_tensor * 10"
   ]
  },
  {
   "cell_type": "code",
   "execution_count": 20,
   "metadata": {},
   "outputs": [
    {
     "data": {
      "text/plain": [
       "tensor([1, 2, 3])"
      ]
     },
     "execution_count": 20,
     "metadata": {},
     "output_type": "execute_result"
    }
   ],
   "source": [
    "# Division\n",
    "torch.div(new_tensor,10)\n",
    "new_tensor"
   ]
  },
  {
   "cell_type": "markdown",
   "metadata": {},
   "source": [
    "### Matrix Multiplication\n",
    "Two main ways of performing multiplication in NN and DL:\n",
    "1. Element-wise\n",
    "2. Matrix (dot product)"
   ]
  },
  {
   "cell_type": "code",
   "execution_count": 21,
   "metadata": {},
   "outputs": [],
   "source": [
    "tensor1 = torch.tensor([[1,2,3]])\n",
    "tensor2 = torch.tensor([[1],[2],[3]])"
   ]
  },
  {
   "cell_type": "code",
   "execution_count": 22,
   "metadata": {},
   "outputs": [
    {
     "name": "stdout",
     "output_type": "stream",
     "text": [
      "tensor([[1, 2, 3]]) * tensor([[1, 2, 3]])\n",
      "Equals: tensor([[1, 4, 9]])\n"
     ]
    }
   ],
   "source": [
    "# 1. Element-wise\n",
    "print(tensor1, \"*\", tensor1)\n",
    "print(f\"Equals: {tensor1 * tensor1}\")"
   ]
  },
  {
   "cell_type": "code",
   "execution_count": 23,
   "metadata": {},
   "outputs": [
    {
     "data": {
      "text/plain": [
       "tensor([[1, 2, 3],\n",
       "        [2, 4, 6],\n",
       "        [3, 6, 9]])"
      ]
     },
     "execution_count": 23,
     "metadata": {},
     "output_type": "execute_result"
    }
   ],
   "source": [
    "# 2. Matrix (dot product)\n",
    "dot_product = torch.mm(tensor2, tensor1)\n",
    "dot_product"
   ]
  },
  {
   "cell_type": "code",
   "execution_count": 24,
   "metadata": {},
   "outputs": [
    {
     "data": {
      "text/plain": [
       "tensor([[-9, -8, -7]])"
      ]
     },
     "execution_count": 24,
     "metadata": {},
     "output_type": "execute_result"
    }
   ],
   "source": [
    "torch.sub(tensor1,10)"
   ]
  },
  {
   "cell_type": "code",
   "execution_count": 25,
   "metadata": {},
   "outputs": [
    {
     "name": "stdout",
     "output_type": "stream",
     "text": [
      "tensor([1, 4, 9])\n",
      "CPU times: total: 0 ns\n",
      "Wall time: 1.45 ms\n"
     ]
    }
   ],
   "source": [
    "%%time\n",
    "value = 0\n",
    "for i in range(len(tensor1)):\n",
    "    value += tensor1[i]* tensor1[i]\n",
    "print(value) "
   ]
  },
  {
   "cell_type": "code",
   "execution_count": 26,
   "metadata": {},
   "outputs": [
    {
     "name": "stdout",
     "output_type": "stream",
     "text": [
      "CPU times: total: 0 ns\n",
      "Wall time: 2.09 ms\n"
     ]
    },
    {
     "data": {
      "text/plain": [
       "tensor(14)"
      ]
     },
     "execution_count": 26,
     "metadata": {},
     "output_type": "execute_result"
    }
   ],
   "source": [
    "%%time\n",
    "torch.matmul(new_tensor,new_tensor)"
   ]
  },
  {
   "cell_type": "code",
   "execution_count": 27,
   "metadata": {},
   "outputs": [
    {
     "data": {
      "text/plain": [
       "tensor([[1, 2, 3],\n",
       "        [2, 4, 6],\n",
       "        [3, 6, 9]])"
      ]
     },
     "execution_count": 27,
     "metadata": {},
     "output_type": "execute_result"
    }
   ],
   "source": [
    "tensor2 @ tensor1"
   ]
  },
  {
   "cell_type": "code",
   "execution_count": 28,
   "metadata": {},
   "outputs": [
    {
     "data": {
      "text/plain": [
       "tensor([[0.1650, 0.3651, 0.5524],\n",
       "        [0.2180, 0.4938, 0.7579],\n",
       "        [0.3559, 0.6767, 0.9228]])"
      ]
     },
     "execution_count": 28,
     "metadata": {},
     "output_type": "execute_result"
    }
   ],
   "source": [
    "torch.matmul(torch.rand(3,2),torch.rand(2,3))"
   ]
  },
  {
   "cell_type": "code",
   "execution_count": 29,
   "metadata": {},
   "outputs": [],
   "source": [
    "tensor_A = torch.tensor([[1,2],\n",
    "                         [3,4],\n",
    "                         [5,6]])\n",
    "\n",
    "tensor_B = torch.tensor([[7,10],\n",
    "                         [8,11],\n",
    "                         [9,12]])"
   ]
  },
  {
   "cell_type": "code",
   "execution_count": 30,
   "metadata": {},
   "outputs": [
    {
     "data": {
      "text/plain": [
       "tensor([[1, 3, 5],\n",
       "        [2, 4, 6]])"
      ]
     },
     "execution_count": 30,
     "metadata": {},
     "output_type": "execute_result"
    }
   ],
   "source": [
    "tensor_A.T \n",
    "#transpose "
   ]
  },
  {
   "cell_type": "code",
   "execution_count": 31,
   "metadata": {},
   "outputs": [
    {
     "data": {
      "text/plain": [
       "tensor([[ 76, 103],\n",
       "        [100, 136]])"
      ]
     },
     "execution_count": 31,
     "metadata": {},
     "output_type": "execute_result"
    }
   ],
   "source": [
    "torch.mm(tensor_A.T,tensor_B)"
   ]
  },
  {
   "cell_type": "code",
   "execution_count": 32,
   "metadata": {},
   "outputs": [
    {
     "name": "stdout",
     "output_type": "stream",
     "text": [
      "min: 1\n",
      "max: 6\n",
      "average: 3.5\n",
      "index position of min: 0\n",
      "index position of max: 5\n"
     ]
    }
   ],
   "source": [
    "print(f\"min: {tensor_A.min()}\")\n",
    "print(f\"max: {tensor_A.max()}\")\n",
    "print(f\"average: {torch.mean(tensor_A.type(torch.float))}\")\n",
    "print(f\"index position of min: {tensor_A.argmin()}\")\n",
    "print(f\"index position of max: {tensor_A.argmax()}\")"
   ]
  },
  {
   "cell_type": "code",
   "execution_count": 33,
   "metadata": {},
   "outputs": [
    {
     "data": {
      "text/plain": [
       "(tensor([ 1.,  2.,  3.,  4.,  5.,  6.,  7.,  8.,  9., 10.]), torch.Size([10]))"
      ]
     },
     "execution_count": 33,
     "metadata": {},
     "output_type": "execute_result"
    }
   ],
   "source": [
    "x = torch.arange(1.,11.)\n",
    "x , x.shape"
   ]
  },
  {
   "cell_type": "code",
   "execution_count": 34,
   "metadata": {},
   "outputs": [
    {
     "data": {
      "text/plain": [
       "(tensor([[ 1.,  2.,  3.,  4.,  5.],\n",
       "         [ 6.,  7.,  8.,  9., 10.]]),\n",
       " torch.Size([2, 5]))"
      ]
     },
     "execution_count": 34,
     "metadata": {},
     "output_type": "execute_result"
    }
   ],
   "source": [
    "x_reshaped = x.reshape(2,5)\n",
    "x_reshaped, x_reshaped.shape"
   ]
  },
  {
   "cell_type": "code",
   "execution_count": 35,
   "metadata": {},
   "outputs": [
    {
     "data": {
      "text/plain": [
       "(tensor([[ 1.,  2.,  3.,  4.,  5.,  6.,  7.,  8.,  9., 10.]]),\n",
       " torch.Size([1, 10]))"
      ]
     },
     "execution_count": 35,
     "metadata": {},
     "output_type": "execute_result"
    }
   ],
   "source": [
    "z = x.view(1,10)\n",
    "z, z.shape"
   ]
  },
  {
   "cell_type": "code",
   "execution_count": 36,
   "metadata": {},
   "outputs": [
    {
     "data": {
      "text/plain": [
       "(tensor([[ 5.,  2.,  3.,  4.,  5.,  6.,  7.,  8.,  9., 10.]]),\n",
       " tensor([ 5.,  2.,  3.,  4.,  5.,  6.,  7.,  8.,  9., 10.]))"
      ]
     },
     "execution_count": 36,
     "metadata": {},
     "output_type": "execute_result"
    }
   ],
   "source": [
    "z[:,0] = 5\n",
    "z,x"
   ]
  },
  {
   "cell_type": "code",
   "execution_count": 37,
   "metadata": {},
   "outputs": [
    {
     "data": {
      "text/plain": [
       "tensor([[ 5.,  2.,  3.,  4.,  5.,  6.,  7.,  8.,  9., 10.],\n",
       "        [ 5.,  2.,  3.,  4.,  5.,  6.,  7.,  8.,  9., 10.],\n",
       "        [ 5.,  2.,  3.,  4.,  5.,  6.,  7.,  8.,  9., 10.],\n",
       "        [ 5.,  2.,  3.,  4.,  5.,  6.,  7.,  8.,  9., 10.],\n",
       "        [ 5.,  2.,  3.,  4.,  5.,  6.,  7.,  8.,  9., 10.]])"
      ]
     },
     "execution_count": 37,
     "metadata": {},
     "output_type": "execute_result"
    }
   ],
   "source": [
    "x_stacked = torch.stack([x,x,x,x,x], dim=0)\n",
    "x_stacked"
   ]
  },
  {
   "cell_type": "code",
   "execution_count": 38,
   "metadata": {},
   "outputs": [
    {
     "data": {
      "text/plain": [
       "(tensor([[[ 1.0860e+00,  9.0541e-01,  6.1393e-01,  2.3911e-01, -7.6759e-01],\n",
       "          [-1.1967e+00, -4.5344e-01, -8.1595e-01, -2.2692e+00,  7.4939e-01],\n",
       "          [ 3.1615e+00, -3.9618e-01,  6.5443e-01, -9.4576e-01, -1.7095e+00]],\n",
       " \n",
       "         [[ 5.4287e-01,  4.2422e-02,  1.7008e+00,  1.1100e-05, -4.3450e-01],\n",
       "          [ 6.2674e-01, -5.4209e-01,  1.1623e+00, -7.8512e-02,  1.5454e+00],\n",
       "          [ 1.6311e+00, -1.2915e+00,  2.0826e+00, -5.1877e-01, -7.5276e-01]]]),\n",
       " torch.Size([2, 3, 5]))"
      ]
     },
     "execution_count": 38,
     "metadata": {},
     "output_type": "execute_result"
    }
   ],
   "source": [
    "x = torch.randn(2,3,5)\n",
    "x, x.size()"
   ]
  },
  {
   "cell_type": "code",
   "execution_count": 39,
   "metadata": {},
   "outputs": [
    {
     "data": {
      "text/plain": [
       "(tensor([[[ 1.0860e+00, -1.1967e+00,  3.1615e+00],\n",
       "          [ 5.4287e-01,  6.2674e-01,  1.6311e+00]],\n",
       " \n",
       "         [[ 9.0541e-01, -4.5344e-01, -3.9618e-01],\n",
       "          [ 4.2422e-02, -5.4209e-01, -1.2915e+00]],\n",
       " \n",
       "         [[ 6.1393e-01, -8.1595e-01,  6.5443e-01],\n",
       "          [ 1.7008e+00,  1.1623e+00,  2.0826e+00]],\n",
       " \n",
       "         [[ 2.3911e-01, -2.2692e+00, -9.4576e-01],\n",
       "          [ 1.1100e-05, -7.8512e-02, -5.1877e-01]],\n",
       " \n",
       "         [[-7.6759e-01,  7.4939e-01, -1.7095e+00],\n",
       "          [-4.3450e-01,  1.5454e+00, -7.5276e-01]]]),\n",
       " torch.Size([5, 2, 3]))"
      ]
     },
     "execution_count": 39,
     "metadata": {},
     "output_type": "execute_result"
    }
   ],
   "source": [
    "permuted_x = torch.permute(x,(2,0,1))\n",
    "permuted_x, permuted_x.size()"
   ]
  },
  {
   "cell_type": "code",
   "execution_count": 40,
   "metadata": {},
   "outputs": [
    {
     "data": {
      "text/plain": [
       "tensor([[[6.1702e-01, 1.1022e-01, 9.1956e-01],\n",
       "         [4.1374e-01, 4.8878e-01, 9.3334e-01],\n",
       "         [7.7332e-01, 4.0409e-01, 6.1208e-01],\n",
       "         ...,\n",
       "         [8.0714e-01, 4.1051e-01, 3.1832e-01],\n",
       "         [6.0952e-02, 4.4256e-01, 7.8884e-01],\n",
       "         [9.0606e-01, 4.9681e-01, 1.9293e-01]],\n",
       "\n",
       "        [[5.6874e-01, 4.9258e-02, 4.5374e-01],\n",
       "         [6.1556e-01, 5.5011e-01, 9.8961e-01],\n",
       "         [4.0243e-01, 7.5979e-02, 8.2904e-02],\n",
       "         ...,\n",
       "         [5.5437e-01, 2.9053e-01, 2.2829e-01],\n",
       "         [9.6690e-01, 8.5865e-01, 7.1300e-01],\n",
       "         [8.6289e-01, 6.5039e-01, 9.9101e-01]],\n",
       "\n",
       "        [[5.5537e-01, 8.6744e-01, 6.0492e-01],\n",
       "         [6.3834e-01, 9.0738e-01, 1.5059e-01],\n",
       "         [2.4472e-01, 9.7093e-01, 2.1115e-01],\n",
       "         ...,\n",
       "         [5.3960e-01, 8.2851e-01, 5.2790e-01],\n",
       "         [3.7212e-01, 1.0230e-01, 5.7964e-01],\n",
       "         [1.2054e-01, 4.3032e-01, 2.9416e-01]],\n",
       "\n",
       "        ...,\n",
       "\n",
       "        [[3.2608e-01, 3.0432e-01, 7.1591e-01],\n",
       "         [8.9477e-01, 7.3255e-01, 9.8460e-02],\n",
       "         [3.0067e-01, 6.0289e-01, 3.3754e-01],\n",
       "         ...,\n",
       "         [7.2014e-01, 1.8285e-01, 7.8960e-01],\n",
       "         [7.1543e-01, 1.7694e-01, 1.2097e-01],\n",
       "         [2.4750e-01, 6.5280e-02, 4.9614e-01]],\n",
       "\n",
       "        [[3.3747e-01, 6.7317e-01, 5.4139e-01],\n",
       "         [3.9501e-01, 9.5589e-01, 8.7601e-01],\n",
       "         [9.6153e-01, 7.3149e-01, 3.6891e-03],\n",
       "         ...,\n",
       "         [5.8287e-04, 7.5764e-01, 1.2387e-01],\n",
       "         [2.9177e-01, 2.2920e-01, 8.6562e-01],\n",
       "         [1.6987e-01, 4.2749e-01, 5.6276e-01]],\n",
       "\n",
       "        [[8.8468e-01, 4.2043e-01, 7.9030e-01],\n",
       "         [1.1618e-01, 5.0874e-01, 3.7476e-01],\n",
       "         [9.3041e-01, 6.3096e-01, 6.2154e-01],\n",
       "         ...,\n",
       "         [6.5393e-01, 9.6762e-01, 8.6528e-01],\n",
       "         [2.6140e-01, 4.8816e-01, 2.0331e-01],\n",
       "         [1.0605e-01, 9.8802e-01, 1.3095e-01]]])"
      ]
     },
     "execution_count": 40,
     "metadata": {},
     "output_type": "execute_result"
    }
   ],
   "source": [
    "x_original = torch.rand(size=(224,224,3)) # [height,width,color channel])\n",
    "x_original"
   ]
  },
  {
   "cell_type": "code",
   "execution_count": 41,
   "metadata": {},
   "outputs": [
    {
     "data": {
      "text/plain": [
       "(tensor([[[6.1702e-01, 4.1374e-01, 7.7332e-01,  ..., 8.0714e-01,\n",
       "           6.0952e-02, 9.0606e-01],\n",
       "          [5.6874e-01, 6.1556e-01, 4.0243e-01,  ..., 5.5437e-01,\n",
       "           9.6690e-01, 8.6289e-01],\n",
       "          [5.5537e-01, 6.3834e-01, 2.4472e-01,  ..., 5.3960e-01,\n",
       "           3.7212e-01, 1.2054e-01],\n",
       "          ...,\n",
       "          [3.2608e-01, 8.9477e-01, 3.0067e-01,  ..., 7.2014e-01,\n",
       "           7.1543e-01, 2.4750e-01],\n",
       "          [3.3747e-01, 3.9501e-01, 9.6153e-01,  ..., 5.8287e-04,\n",
       "           2.9177e-01, 1.6987e-01],\n",
       "          [8.8468e-01, 1.1618e-01, 9.3041e-01,  ..., 6.5393e-01,\n",
       "           2.6140e-01, 1.0605e-01]],\n",
       " \n",
       "         [[1.1022e-01, 4.8878e-01, 4.0409e-01,  ..., 4.1051e-01,\n",
       "           4.4256e-01, 4.9681e-01],\n",
       "          [4.9258e-02, 5.5011e-01, 7.5979e-02,  ..., 2.9053e-01,\n",
       "           8.5865e-01, 6.5039e-01],\n",
       "          [8.6744e-01, 9.0738e-01, 9.7093e-01,  ..., 8.2851e-01,\n",
       "           1.0230e-01, 4.3032e-01],\n",
       "          ...,\n",
       "          [3.0432e-01, 7.3255e-01, 6.0289e-01,  ..., 1.8285e-01,\n",
       "           1.7694e-01, 6.5280e-02],\n",
       "          [6.7317e-01, 9.5589e-01, 7.3149e-01,  ..., 7.5764e-01,\n",
       "           2.2920e-01, 4.2749e-01],\n",
       "          [4.2043e-01, 5.0874e-01, 6.3096e-01,  ..., 9.6762e-01,\n",
       "           4.8816e-01, 9.8802e-01]],\n",
       " \n",
       "         [[9.1956e-01, 9.3334e-01, 6.1208e-01,  ..., 3.1832e-01,\n",
       "           7.8884e-01, 1.9293e-01],\n",
       "          [4.5374e-01, 9.8961e-01, 8.2904e-02,  ..., 2.2829e-01,\n",
       "           7.1300e-01, 9.9101e-01],\n",
       "          [6.0492e-01, 1.5059e-01, 2.1115e-01,  ..., 5.2790e-01,\n",
       "           5.7964e-01, 2.9416e-01],\n",
       "          ...,\n",
       "          [7.1591e-01, 9.8460e-02, 3.3754e-01,  ..., 7.8960e-01,\n",
       "           1.2097e-01, 4.9614e-01],\n",
       "          [5.4139e-01, 8.7601e-01, 3.6891e-03,  ..., 1.2387e-01,\n",
       "           8.6562e-01, 5.6276e-01],\n",
       "          [7.9030e-01, 3.7476e-01, 6.2154e-01,  ..., 8.6528e-01,\n",
       "           2.0331e-01, 1.3095e-01]]]),\n",
       " torch.Size([3, 224, 224]))"
      ]
     },
     "execution_count": 41,
     "metadata": {},
     "output_type": "execute_result"
    }
   ],
   "source": [
    "x_original_permuted = x_original.permute(2,0,1) \n",
    "x_original_permuted, x_original_permuted.size()"
   ]
  },
  {
   "cell_type": "markdown",
   "metadata": {},
   "source": [
    "# PyTorch Tensors & NumPy\n",
    "* Data in numpy, want in pytorch tensor -> `torch.from_numpy(ndarray)`\n",
    "* PyTorch tensor -> Numpy -> `torch.Tensor.numpy()`"
   ]
  },
  {
   "cell_type": "code",
   "execution_count": 42,
   "metadata": {},
   "outputs": [
    {
     "data": {
      "text/plain": [
       "(array([1., 2., 3., 4., 5., 6., 7.]),\n",
       " tensor([1., 2., 3., 4., 5., 6., 7.], dtype=torch.float64))"
      ]
     },
     "execution_count": 42,
     "metadata": {},
     "output_type": "execute_result"
    }
   ],
   "source": [
    "# Numpy array to tensor\n",
    "array = np.arange(1.,8.)\n",
    "tensor = torch.from_numpy(array)\n",
    "array,tensor"
   ]
  },
  {
   "cell_type": "code",
   "execution_count": 43,
   "metadata": {},
   "outputs": [
    {
     "data": {
      "text/plain": [
       "(dtype('float64'), torch.float64)"
      ]
     },
     "execution_count": 43,
     "metadata": {},
     "output_type": "execute_result"
    }
   ],
   "source": [
    "array.dtype, tensor.dtype"
   ]
  },
  {
   "cell_type": "code",
   "execution_count": 44,
   "metadata": {},
   "outputs": [
    {
     "data": {
      "text/plain": [
       "torch.float32"
      ]
     },
     "execution_count": 44,
     "metadata": {},
     "output_type": "execute_result"
    }
   ],
   "source": [
    "torch.arange(1.,8.).dtype"
   ]
  },
  {
   "cell_type": "code",
   "execution_count": 45,
   "metadata": {},
   "outputs": [
    {
     "data": {
      "text/plain": [
       "(tensor([1, 2, 3]), device(type='cpu'))"
      ]
     },
     "execution_count": 45,
     "metadata": {},
     "output_type": "execute_result"
    }
   ],
   "source": [
    "tensor = torch.tensor([1,2,3], device=\"cpu\")\n",
    "tensor, tensor.device"
   ]
  },
  {
   "cell_type": "code",
   "execution_count": 46,
   "metadata": {},
   "outputs": [
    {
     "name": "stdout",
     "output_type": "stream",
     "text": [
      "tensor([1, 2, 3])\n"
     ]
    },
    {
     "data": {
      "text/plain": [
       "device(type='cpu')"
      ]
     },
     "execution_count": 46,
     "metadata": {},
     "output_type": "execute_result"
    }
   ],
   "source": [
    "device = torch.device(\"cuda\" if torch.cuda.is_available() else \"cpu\")\n",
    "\n",
    "tensor = torch.tensor([1,2,3])\n",
    "\n",
    "tensor_on_gpu = tensor.to(device)\n",
    "print(tensor_on_gpu)\n",
    "tensor_on_gpu.device"
   ]
  },
  {
   "cell_type": "code",
   "execution_count": 47,
   "metadata": {},
   "outputs": [
    {
     "data": {
      "text/plain": [
       "array([1, 2, 3], dtype=int64)"
      ]
     },
     "execution_count": 47,
     "metadata": {},
     "output_type": "execute_result"
    }
   ],
   "source": [
    "tensor_back_on_cpu = tensor_on_gpu.cpu().numpy()\n",
    "tensor_back_on_cpu"
   ]
  }
 ],
 "metadata": {
  "kernelspec": {
   "display_name": "Python 3 (ipykernel)",
   "language": "python",
   "name": "python3"
  },
  "language_info": {
   "codemirror_mode": {
    "name": "ipython",
    "version": 3
   },
   "file_extension": ".py",
   "mimetype": "text/x-python",
   "name": "python",
   "nbconvert_exporter": "python",
   "pygments_lexer": "ipython3",
   "version": "3.11.5"
  }
 },
 "nbformat": 4,
 "nbformat_minor": 2
}
