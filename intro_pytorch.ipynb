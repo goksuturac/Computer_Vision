{
 "cells": [
  {
   "cell_type": "code",
   "execution_count": 1,
   "metadata": {},
   "outputs": [],
   "source": [
    "import numpy as np\n",
    "import pandas as pd\n",
    "import torch"
   ]
  },
  {
   "cell_type": "markdown",
   "metadata": {},
   "source": [
    "``In practice, you'll often see scalars and vectors denoted as lowercase letters such as y or a.And matrices and tensors denoted as uppercase letters such as X or W.``"
   ]
  },
  {
   "cell_type": "code",
   "execution_count": 2,
   "metadata": {},
   "outputs": [
    {
     "name": "stdout",
     "output_type": "stream",
     "text": [
      "0\n",
      "torch.Size([])\n"
     ]
    }
   ],
   "source": [
    "scalar = torch.tensor(7)\n",
    "print(scalar.ndim)\n",
    "print(scalar.shape)"
   ]
  },
  {
   "cell_type": "code",
   "execution_count": 3,
   "metadata": {},
   "outputs": [
    {
     "name": "stdout",
     "output_type": "stream",
     "text": [
      "1\n",
      "torch.Size([2])\n"
     ]
    }
   ],
   "source": [
    "vector = torch.tensor([7,7])\n",
    "print(vector.ndim)\n",
    "print(vector.shape)"
   ]
  },
  {
   "cell_type": "code",
   "execution_count": 4,
   "metadata": {},
   "outputs": [
    {
     "name": "stdout",
     "output_type": "stream",
     "text": [
      "2\n",
      "torch.Size([2, 2])\n"
     ]
    }
   ],
   "source": [
    "MATRIX = torch.tensor([[7, 7], [8, 8]])\n",
    "print(MATRIX.ndim)\n",
    "print(MATRIX.shape)"
   ]
  },
  {
   "cell_type": "code",
   "execution_count": 5,
   "metadata": {},
   "outputs": [
    {
     "name": "stdout",
     "output_type": "stream",
     "text": [
      "3\n",
      "torch.Size([1, 3, 3])\n"
     ]
    }
   ],
   "source": [
    "TENSOR = torch.tensor([[[1, 2, 3], [4, 5, 6], [7, 8, 9]]])\n",
    "print(TENSOR.ndim)\n",
    "print(TENSOR.shape)"
   ]
  },
  {
   "cell_type": "markdown",
   "metadata": {},
   "source": [
    "## Random Tensors\n",
    "`https://pytorch.org/docs/stable/generated/torch.rand.html`"
   ]
  },
  {
   "cell_type": "code",
   "execution_count": 6,
   "metadata": {},
   "outputs": [
    {
     "data": {
      "text/plain": [
       "tensor([[0.0172, 0.5331, 0.0299, 0.3976],\n",
       "        [0.1231, 0.2932, 0.2838, 0.5982],\n",
       "        [0.4833, 0.1252, 0.3760, 0.1084],\n",
       "        [0.2377, 0.1128, 0.5038, 0.1369]])"
      ]
     },
     "execution_count": 6,
     "metadata": {},
     "output_type": "execute_result"
    }
   ],
   "source": [
    "random = torch.rand(4,4)\n",
    "random"
   ]
  },
  {
   "cell_type": "code",
   "execution_count": 7,
   "metadata": {},
   "outputs": [
    {
     "data": {
      "text/plain": [
       "2"
      ]
     },
     "execution_count": 7,
     "metadata": {},
     "output_type": "execute_result"
    }
   ],
   "source": [
    "random.ndim"
   ]
  },
  {
   "cell_type": "code",
   "execution_count": 8,
   "metadata": {},
   "outputs": [
    {
     "data": {
      "text/plain": [
       "torch.Size([4, 4])"
      ]
     },
     "execution_count": 8,
     "metadata": {},
     "output_type": "execute_result"
    }
   ],
   "source": [
    "random.shape"
   ]
  },
  {
   "cell_type": "markdown",
   "metadata": {},
   "source": [
    "##### Create an image \n",
    "###### color channel,Height, width"
   ]
  },
  {
   "cell_type": "code",
   "execution_count": 9,
   "metadata": {},
   "outputs": [
    {
     "data": {
      "text/plain": [
       "(torch.Size([3, 224, 224]), 3)"
      ]
     },
     "execution_count": 9,
     "metadata": {},
     "output_type": "execute_result"
    }
   ],
   "source": [
    "image_size_tensor = torch.rand(size=(3,224,224))\n",
    "image_size_tensor.shape , image_size_tensor.ndim"
   ]
  },
  {
   "cell_type": "code",
   "execution_count": 10,
   "metadata": {},
   "outputs": [
    {
     "data": {
      "text/plain": [
       "tensor([ 1,  2,  3,  4,  5,  6,  7,  8,  9, 10])"
      ]
     },
     "execution_count": 10,
     "metadata": {},
     "output_type": "execute_result"
    }
   ],
   "source": [
    "one_to_ten = torch.arange(start = 1, end = 11, step = 1)\n",
    "one_to_ten"
   ]
  },
  {
   "cell_type": "code",
   "execution_count": 11,
   "metadata": {},
   "outputs": [],
   "source": [
    "ten_zero = torch.zeros_like(input = one_to_ten)"
   ]
  },
  {
   "cell_type": "code",
   "execution_count": 12,
   "metadata": {},
   "outputs": [
    {
     "data": {
      "text/plain": [
       "tensor([0, 0, 0, 0, 0, 0, 0, 0, 0, 0])"
      ]
     },
     "execution_count": 12,
     "metadata": {},
     "output_type": "execute_result"
    }
   ],
   "source": [
    "ten_zero"
   ]
  },
  {
   "cell_type": "markdown",
   "metadata": {},
   "source": [
    "TENSOR DATA TYPES"
   ]
  },
  {
   "cell_type": "code",
   "execution_count": 13,
   "metadata": {},
   "outputs": [
    {
     "data": {
      "text/plain": [
       "tensor([[0.9439, 0.8301, 0.1038, 0.2336],\n",
       "        [0.3574, 0.9767, 0.4054, 0.1671],\n",
       "        [0.7543, 0.1132, 0.6985, 0.6166]])"
      ]
     },
     "execution_count": 13,
     "metadata": {},
     "output_type": "execute_result"
    }
   ],
   "source": [
    "example_tensor = torch.rand(3,4)\n",
    "example_tensor"
   ]
  },
  {
   "cell_type": "code",
   "execution_count": 14,
   "metadata": {},
   "outputs": [
    {
     "name": "stdout",
     "output_type": "stream",
     "text": [
      "tensor([[0.9439, 0.8301, 0.1038, 0.2336],\n",
      "        [0.3574, 0.9767, 0.4054, 0.1671],\n",
      "        [0.7543, 0.1132, 0.6985, 0.6166]])\n",
      "data type of tensor: torch.float32\n",
      "shape of tensor: torch.Size([3, 4])\n",
      "device tensor is on: cpu\n"
     ]
    }
   ],
   "source": [
    "print(example_tensor)\n",
    "print(f\"data type of tensor: {example_tensor.dtype}\")\n",
    "print(f\"shape of tensor: {example_tensor.shape}\")\n",
    "print(f\"device tensor is on: {example_tensor.device}\")"
   ]
  },
  {
   "cell_type": "code",
   "execution_count": 15,
   "metadata": {},
   "outputs": [
    {
     "data": {
      "text/plain": [
       "False"
      ]
     },
     "execution_count": 15,
     "metadata": {},
     "output_type": "execute_result"
    }
   ],
   "source": [
    "torch.cuda.is_available()"
   ]
  },
  {
   "cell_type": "markdown",
   "metadata": {},
   "source": [
    "### Manipulating Tensors\n",
    "Operations:\n",
    "* Addition\n",
    "* Subtraction\n",
    "* Multiplication\n",
    "* Division\n",
    "* Matrix multiplication"
   ]
  },
  {
   "cell_type": "code",
   "execution_count": 16,
   "metadata": {},
   "outputs": [],
   "source": [
    "new_tensor = torch.tensor([1,2,3])"
   ]
  },
  {
   "cell_type": "code",
   "execution_count": 17,
   "metadata": {},
   "outputs": [
    {
     "data": {
      "text/plain": [
       "tensor([11, 12, 13])"
      ]
     },
     "execution_count": 17,
     "metadata": {},
     "output_type": "execute_result"
    }
   ],
   "source": [
    "# Addition\n",
    "torch.add(new_tensor,10)\n",
    "# new_tensor + 10"
   ]
  },
  {
   "cell_type": "code",
   "execution_count": 18,
   "metadata": {},
   "outputs": [
    {
     "data": {
      "text/plain": [
       "tensor([-9, -8, -7])"
      ]
     },
     "execution_count": 18,
     "metadata": {},
     "output_type": "execute_result"
    }
   ],
   "source": [
    "# Subtraction\n",
    "torch.sub(new_tensor,10)\n",
    "# new_tensor - 10"
   ]
  },
  {
   "cell_type": "code",
   "execution_count": 19,
   "metadata": {},
   "outputs": [
    {
     "data": {
      "text/plain": [
       "tensor([10, 20, 30])"
      ]
     },
     "execution_count": 19,
     "metadata": {},
     "output_type": "execute_result"
    }
   ],
   "source": [
    "# Multiplication\n",
    "torch.mul(new_tensor,10)\n",
    "# new_tensor * 10"
   ]
  },
  {
   "cell_type": "code",
   "execution_count": 20,
   "metadata": {},
   "outputs": [
    {
     "data": {
      "text/plain": [
       "tensor([1, 2, 3])"
      ]
     },
     "execution_count": 20,
     "metadata": {},
     "output_type": "execute_result"
    }
   ],
   "source": [
    "# Division\n",
    "torch.div(new_tensor,10)\n",
    "new_tensor"
   ]
  },
  {
   "cell_type": "markdown",
   "metadata": {},
   "source": [
    "### Matrix Multiplication\n",
    "Two main ways of performing multiplication in NN and DL:\n",
    "1. Element-wise\n",
    "2. Matrix (dot product)"
   ]
  },
  {
   "cell_type": "code",
   "execution_count": 35,
   "metadata": {},
   "outputs": [],
   "source": [
    "tensor1 = torch.tensor([[1,2,3]])\n",
    "tensor2 = torch.tensor([[1],[2],[3]])"
   ]
  },
  {
   "cell_type": "code",
   "execution_count": 36,
   "metadata": {},
   "outputs": [
    {
     "name": "stdout",
     "output_type": "stream",
     "text": [
      "tensor([[1, 2, 3]]) * tensor([[1, 2, 3]])\n",
      "Equals: tensor([[1, 4, 9]])\n"
     ]
    }
   ],
   "source": [
    "# 1. Element-wise\n",
    "print(tensor1, \"*\", tensor1)\n",
    "print(f\"Equals: {tensor1 * tensor1}\")"
   ]
  },
  {
   "cell_type": "code",
   "execution_count": 44,
   "metadata": {},
   "outputs": [
    {
     "data": {
      "text/plain": [
       "tensor([[1, 2, 3],\n",
       "        [2, 4, 6],\n",
       "        [3, 6, 9]])"
      ]
     },
     "execution_count": 44,
     "metadata": {},
     "output_type": "execute_result"
    }
   ],
   "source": [
    "# 2. Matrix (dot product)\n",
    "dot_product = torch.mm(tensor2, tensor1)\n",
    "dot_product"
   ]
  },
  {
   "cell_type": "code",
   "execution_count": 26,
   "metadata": {},
   "outputs": [
    {
     "data": {
      "text/plain": [
       "tensor([[-9, -8, -7]])"
      ]
     },
     "execution_count": 26,
     "metadata": {},
     "output_type": "execute_result"
    }
   ],
   "source": [
    "torch.sub(tensor1,10)"
   ]
  },
  {
   "cell_type": "code",
   "execution_count": 38,
   "metadata": {},
   "outputs": [
    {
     "name": "stdout",
     "output_type": "stream",
     "text": [
      "tensor([1, 4, 9])\n",
      "CPU times: total: 0 ns\n",
      "Wall time: 0 ns\n"
     ]
    }
   ],
   "source": [
    "%%time\n",
    "value = 0\n",
    "for i in range(len(tensor1)):\n",
    "    value += tensor1[i]* tensor1[i]\n",
    "print(value) "
   ]
  },
  {
   "cell_type": "code",
   "execution_count": 40,
   "metadata": {},
   "outputs": [
    {
     "name": "stdout",
     "output_type": "stream",
     "text": [
      "CPU times: total: 0 ns\n",
      "Wall time: 996 µs\n"
     ]
    },
    {
     "data": {
      "text/plain": [
       "tensor(14)"
      ]
     },
     "execution_count": 40,
     "metadata": {},
     "output_type": "execute_result"
    }
   ],
   "source": [
    "%%time\n",
    "torch.matmul(new_tensor,new_tensor)"
   ]
  },
  {
   "cell_type": "code",
   "execution_count": 42,
   "metadata": {},
   "outputs": [
    {
     "data": {
      "text/plain": [
       "tensor([[1, 2, 3],\n",
       "        [2, 4, 6],\n",
       "        [3, 6, 9]])"
      ]
     },
     "execution_count": 42,
     "metadata": {},
     "output_type": "execute_result"
    }
   ],
   "source": [
    "tensor2 @ tensor1"
   ]
  },
  {
   "cell_type": "code",
   "execution_count": 55,
   "metadata": {},
   "outputs": [
    {
     "data": {
      "text/plain": [
       "tensor([[0.4716, 0.3120, 0.3590],\n",
       "        [0.6419, 0.6204, 0.4464],\n",
       "        [0.3933, 0.3481, 0.2804]])"
      ]
     },
     "execution_count": 55,
     "metadata": {},
     "output_type": "execute_result"
    }
   ],
   "source": [
    "torch.matmul(torch.rand(3,2),torch.rand(2,3))"
   ]
  },
  {
   "cell_type": "code",
   "execution_count": 56,
   "metadata": {},
   "outputs": [],
   "source": [
    "tensor_A = torch.tensor([[1,2],\n",
    "                         [3,4],\n",
    "                         [5,6]])\n",
    "\n",
    "tensor_B = torch.tensor([[7,10],\n",
    "                         [8,11],\n",
    "                         [9,12]])"
   ]
  },
  {
   "cell_type": "code",
   "execution_count": 61,
   "metadata": {},
   "outputs": [
    {
     "data": {
      "text/plain": [
       "tensor([[1, 3, 5],\n",
       "        [2, 4, 6]])"
      ]
     },
     "execution_count": 61,
     "metadata": {},
     "output_type": "execute_result"
    }
   ],
   "source": [
    "tensor_A.T \n",
    "#transpose "
   ]
  },
  {
   "cell_type": "code",
   "execution_count": 60,
   "metadata": {},
   "outputs": [
    {
     "data": {
      "text/plain": [
       "tensor([[ 76, 103],\n",
       "        [100, 136]])"
      ]
     },
     "execution_count": 60,
     "metadata": {},
     "output_type": "execute_result"
    }
   ],
   "source": [
    "torch.mm(tensor_A.T,tensor_B)"
   ]
  },
  {
   "cell_type": "code",
   "execution_count": 72,
   "metadata": {},
   "outputs": [
    {
     "name": "stdout",
     "output_type": "stream",
     "text": [
      "min: 1\n",
      "max: 6\n",
      "average: 3.5\n",
      "index position of min: 0\n",
      "index position of max: 5\n"
     ]
    }
   ],
   "source": [
    "print(f\"min: {tensor_A.min()}\")\n",
    "print(f\"max: {tensor_A.max()}\")\n",
    "print(f\"average: {torch.mean(tensor_A.type(torch.float))}\")\n",
    "print(f\"index position of min: {tensor_A.argmin()}\")\n",
    "print(f\"index position of max: {tensor_A.argmax()}\")"
   ]
  },
  {
   "cell_type": "code",
   "execution_count": 73,
   "metadata": {},
   "outputs": [
    {
     "data": {
      "text/plain": [
       "(tensor([ 1.,  2.,  3.,  4.,  5.,  6.,  7.,  8.,  9., 10.]), torch.Size([10]))"
      ]
     },
     "execution_count": 73,
     "metadata": {},
     "output_type": "execute_result"
    }
   ],
   "source": [
    "x = torch.arange(1.,11.)\n",
    "x , x.shape"
   ]
  },
  {
   "cell_type": "code",
   "execution_count": 74,
   "metadata": {},
   "outputs": [
    {
     "data": {
      "text/plain": [
       "(tensor([[ 1.,  2.,  3.,  4.,  5.],\n",
       "         [ 6.,  7.,  8.,  9., 10.]]),\n",
       " torch.Size([2, 5]))"
      ]
     },
     "execution_count": 74,
     "metadata": {},
     "output_type": "execute_result"
    }
   ],
   "source": [
    "x_reshaped = x.reshape(2,5)\n",
    "x_reshaped, x_reshaped.shape"
   ]
  },
  {
   "cell_type": "code",
   "execution_count": 78,
   "metadata": {},
   "outputs": [
    {
     "data": {
      "text/plain": [
       "(tensor([[ 1.,  2.,  3.,  4.,  5.,  6.,  7.,  8.,  9., 10.]]),\n",
       " torch.Size([1, 10]))"
      ]
     },
     "execution_count": 78,
     "metadata": {},
     "output_type": "execute_result"
    }
   ],
   "source": [
    "z = x.view(1,10)\n",
    "z, z.shape"
   ]
  },
  {
   "cell_type": "code",
   "execution_count": 80,
   "metadata": {},
   "outputs": [
    {
     "data": {
      "text/plain": [
       "(tensor([[ 5.,  2.,  3.,  4.,  5.,  6.,  7.,  8.,  9., 10.]]),\n",
       " tensor([ 5.,  2.,  3.,  4.,  5.,  6.,  7.,  8.,  9., 10.]))"
      ]
     },
     "execution_count": 80,
     "metadata": {},
     "output_type": "execute_result"
    }
   ],
   "source": [
    "z[:,0] = 5\n",
    "z,x"
   ]
  },
  {
   "cell_type": "code",
   "execution_count": 87,
   "metadata": {},
   "outputs": [
    {
     "data": {
      "text/plain": [
       "tensor([[ 5.,  2.,  3.,  4.,  5.,  6.,  7.,  8.,  9., 10.],\n",
       "        [ 5.,  2.,  3.,  4.,  5.,  6.,  7.,  8.,  9., 10.],\n",
       "        [ 5.,  2.,  3.,  4.,  5.,  6.,  7.,  8.,  9., 10.],\n",
       "        [ 5.,  2.,  3.,  4.,  5.,  6.,  7.,  8.,  9., 10.],\n",
       "        [ 5.,  2.,  3.,  4.,  5.,  6.,  7.,  8.,  9., 10.]])"
      ]
     },
     "execution_count": 87,
     "metadata": {},
     "output_type": "execute_result"
    }
   ],
   "source": [
    "x_stacked = torch.stack([x,x,x,x,x], dim=0)\n",
    "x_stacked"
   ]
  },
  {
   "cell_type": "code",
   "execution_count": 90,
   "metadata": {},
   "outputs": [
    {
     "data": {
      "text/plain": [
       "(tensor([[[-0.4485,  0.0135,  1.8106, -0.7445,  2.0462],\n",
       "          [-0.4672, -0.0811,  0.6835, -1.1476,  0.8266],\n",
       "          [ 0.4258, -0.5910, -0.2004,  0.0308,  0.6152]],\n",
       " \n",
       "         [[ 0.4837, -0.9391, -1.2369, -0.7336,  0.2037],\n",
       "          [ 0.6138, -1.6105,  1.2727, -0.8931, -0.1836],\n",
       "          [ 0.8556,  0.3869, -0.8175, -0.6155,  0.1386]]]),\n",
       " torch.Size([2, 3, 5]))"
      ]
     },
     "execution_count": 90,
     "metadata": {},
     "output_type": "execute_result"
    }
   ],
   "source": [
    "x = torch.randn(2,3,5)\n",
    "x, x.size()"
   ]
  },
  {
   "cell_type": "code",
   "execution_count": 93,
   "metadata": {},
   "outputs": [
    {
     "data": {
      "text/plain": [
       "(tensor([[[-0.4485, -0.4672,  0.4258],\n",
       "          [ 0.4837,  0.6138,  0.8556]],\n",
       " \n",
       "         [[ 0.0135, -0.0811, -0.5910],\n",
       "          [-0.9391, -1.6105,  0.3869]],\n",
       " \n",
       "         [[ 1.8106,  0.6835, -0.2004],\n",
       "          [-1.2369,  1.2727, -0.8175]],\n",
       " \n",
       "         [[-0.7445, -1.1476,  0.0308],\n",
       "          [-0.7336, -0.8931, -0.6155]],\n",
       " \n",
       "         [[ 2.0462,  0.8266,  0.6152],\n",
       "          [ 0.2037, -0.1836,  0.1386]]]),\n",
       " torch.Size([5, 2, 3]))"
      ]
     },
     "execution_count": 93,
     "metadata": {},
     "output_type": "execute_result"
    }
   ],
   "source": [
    "permuted_x = torch.permute(x,(2,0,1))\n",
    "permuted_x, permuted_x.size()"
   ]
  },
  {
   "cell_type": "code",
   "execution_count": 96,
   "metadata": {},
   "outputs": [
    {
     "data": {
      "text/plain": [
       "tensor([[[0.9547, 0.6442, 0.4379],\n",
       "         [0.7089, 0.7503, 0.1440],\n",
       "         [0.4903, 0.7440, 0.0623],\n",
       "         ...,\n",
       "         [0.2154, 0.8476, 0.1565],\n",
       "         [0.9902, 0.7689, 0.9860],\n",
       "         [0.5260, 0.6039, 0.4556]],\n",
       "\n",
       "        [[0.0486, 0.9681, 0.8967],\n",
       "         [0.4607, 0.0821, 0.4803],\n",
       "         [0.0425, 0.3052, 0.6400],\n",
       "         ...,\n",
       "         [0.8813, 0.2316, 0.9772],\n",
       "         [0.8181, 0.4710, 0.7241],\n",
       "         [0.8517, 0.6776, 0.3930]],\n",
       "\n",
       "        [[0.2451, 0.2757, 0.7205],\n",
       "         [0.5009, 0.8537, 0.3244],\n",
       "         [0.2643, 0.2317, 0.0933],\n",
       "         ...,\n",
       "         [0.8876, 0.3832, 0.6593],\n",
       "         [0.0722, 0.9619, 0.5728],\n",
       "         [0.5432, 0.5286, 0.7631]],\n",
       "\n",
       "        ...,\n",
       "\n",
       "        [[0.0822, 0.6314, 0.4079],\n",
       "         [0.6223, 0.4678, 0.9126],\n",
       "         [0.6775, 0.4134, 0.3370],\n",
       "         ...,\n",
       "         [0.0237, 0.6919, 0.7000],\n",
       "         [0.1224, 0.2392, 0.0726],\n",
       "         [0.0625, 0.5586, 0.1735]],\n",
       "\n",
       "        [[0.1547, 0.3241, 0.4100],\n",
       "         [0.3271, 0.3648, 0.9200],\n",
       "         [0.1852, 0.9639, 0.4027],\n",
       "         ...,\n",
       "         [0.2414, 0.7710, 0.5144],\n",
       "         [0.0653, 0.7984, 0.6603],\n",
       "         [0.8496, 0.9394, 0.0756]],\n",
       "\n",
       "        [[0.9467, 0.9279, 0.3628],\n",
       "         [0.3529, 0.1739, 0.9716],\n",
       "         [0.4320, 0.5492, 0.2773],\n",
       "         ...,\n",
       "         [0.3614, 0.2409, 0.3036],\n",
       "         [0.8204, 0.3709, 0.3486],\n",
       "         [0.6935, 0.9699, 0.4342]]])"
      ]
     },
     "execution_count": 96,
     "metadata": {},
     "output_type": "execute_result"
    }
   ],
   "source": [
    "x_original = torch.rand(size=(224,224,3)) # [height,width,color channel])\n",
    "x_original"
   ]
  },
  {
   "cell_type": "code",
   "execution_count": 100,
   "metadata": {},
   "outputs": [
    {
     "data": {
      "text/plain": [
       "(tensor([[[0.9547, 0.7089, 0.4903,  ..., 0.2154, 0.9902, 0.5260],\n",
       "          [0.0486, 0.4607, 0.0425,  ..., 0.8813, 0.8181, 0.8517],\n",
       "          [0.2451, 0.5009, 0.2643,  ..., 0.8876, 0.0722, 0.5432],\n",
       "          ...,\n",
       "          [0.0822, 0.6223, 0.6775,  ..., 0.0237, 0.1224, 0.0625],\n",
       "          [0.1547, 0.3271, 0.1852,  ..., 0.2414, 0.0653, 0.8496],\n",
       "          [0.9467, 0.3529, 0.4320,  ..., 0.3614, 0.8204, 0.6935]],\n",
       " \n",
       "         [[0.6442, 0.7503, 0.7440,  ..., 0.8476, 0.7689, 0.6039],\n",
       "          [0.9681, 0.0821, 0.3052,  ..., 0.2316, 0.4710, 0.6776],\n",
       "          [0.2757, 0.8537, 0.2317,  ..., 0.3832, 0.9619, 0.5286],\n",
       "          ...,\n",
       "          [0.6314, 0.4678, 0.4134,  ..., 0.6919, 0.2392, 0.5586],\n",
       "          [0.3241, 0.3648, 0.9639,  ..., 0.7710, 0.7984, 0.9394],\n",
       "          [0.9279, 0.1739, 0.5492,  ..., 0.2409, 0.3709, 0.9699]],\n",
       " \n",
       "         [[0.4379, 0.1440, 0.0623,  ..., 0.1565, 0.9860, 0.4556],\n",
       "          [0.8967, 0.4803, 0.6400,  ..., 0.9772, 0.7241, 0.3930],\n",
       "          [0.7205, 0.3244, 0.0933,  ..., 0.6593, 0.5728, 0.7631],\n",
       "          ...,\n",
       "          [0.4079, 0.9126, 0.3370,  ..., 0.7000, 0.0726, 0.1735],\n",
       "          [0.4100, 0.9200, 0.4027,  ..., 0.5144, 0.6603, 0.0756],\n",
       "          [0.3628, 0.9716, 0.2773,  ..., 0.3036, 0.3486, 0.4342]]]),\n",
       " torch.Size([3, 224, 224]))"
      ]
     },
     "execution_count": 100,
     "metadata": {},
     "output_type": "execute_result"
    }
   ],
   "source": [
    "x_original_permuted = x_original.permute(2,0,1) \n",
    "x_original_permuted, x_original_permuted.size()"
   ]
  },
  {
   "cell_type": "code",
   "execution_count": null,
   "metadata": {},
   "outputs": [],
   "source": []
  }
 ],
 "metadata": {
  "kernelspec": {
   "display_name": "Python 3 (ipykernel)",
   "language": "python",
   "name": "python3"
  },
  "language_info": {
   "codemirror_mode": {
    "name": "ipython",
    "version": 3
   },
   "file_extension": ".py",
   "mimetype": "text/x-python",
   "name": "python",
   "nbconvert_exporter": "python",
   "pygments_lexer": "ipython3",
   "version": "3.11.5"
  }
 },
 "nbformat": 4,
 "nbformat_minor": 2
}
